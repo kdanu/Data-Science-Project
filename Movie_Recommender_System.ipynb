{
  "nbformat": 4,
  "nbformat_minor": 0,
  "metadata": {
    "colab": {
      "provenance": [],
      "authorship_tag": "ABX9TyONp1/aS3bA/YFYGqLRlIU8",
      "include_colab_link": true
    },
    "kernelspec": {
      "name": "python3",
      "display_name": "Python 3"
    },
    "language_info": {
      "name": "python"
    },
    "accelerator": "GPU"
  },
  "cells": [
    {
      "cell_type": "markdown",
      "metadata": {
        "id": "view-in-github",
        "colab_type": "text"
      },
      "source": [
        "<a href=\"https://colab.research.google.com/github/kdanu/Data-Science-Project/blob/main/Movie_Recommender_System.ipynb\" target=\"_parent\"><img src=\"https://colab.research.google.com/assets/colab-badge.svg\" alt=\"Open In Colab\"/></a>"
      ]
    },
    {
      "cell_type": "markdown",
      "metadata": {
        "id": "NZZswHHvRo6y"
      },
      "source": [
        "## Sistem Rekomendasi Film dengan Pendekatan Collaborative Filtering"
      ]
    },
    {
      "cell_type": "markdown",
      "metadata": {
        "id": "q7m_sj03R55J"
      },
      "source": [
        "Tahap pertama yang dilakukan adalah mengimport semua library yang dibutuhkan."
      ]
    },
    {
      "cell_type": "code",
      "metadata": {
        "id": "RuMm5lqaFwzz"
      },
      "source": [
        "import pandas as pd\n",
        "import numpy as np\n",
        "from zipfile import ZipFile\n",
        "import tensorflow as tf\n",
        "from tensorflow import keras\n",
        "from tensorflow.keras import layers\n",
        "from pathlib import Path\n",
        "import matplotlib.pyplot as plt"
      ],
      "execution_count": null,
      "outputs": []
    },
    {
      "cell_type": "markdown",
      "metadata": {
        "id": "OFtt83D4SStU"
      },
      "source": [
        "\n",
        "Lalu kita download dataset yang dibutuhkan, dan di unzip. berikut link download dataset nya http://files.grouplens.org/datasets/movielens/ml-latest-small.zip  "
      ]
    },
    {
      "cell_type": "code",
      "metadata": {
        "colab": {
          "base_uri": "https://localhost:8080/"
        },
        "id": "c0CTBYFkH4k0",
        "outputId": "89d3c321-55c3-468c-c800-331ceaadf605"
      },
      "source": [
        "!wget 'http://files.grouplens.org/datasets/movielens/ml-latest-small.zip'\n",
        "!unzip 'ml-latest-small.zip'"
      ],
      "execution_count": null,
      "outputs": [
        {
          "output_type": "stream",
          "name": "stdout",
          "text": [
            "--2021-11-25 22:58:53--  http://files.grouplens.org/datasets/movielens/ml-latest-small.zip\n",
            "Resolving files.grouplens.org (files.grouplens.org)... 128.101.65.152\n",
            "Connecting to files.grouplens.org (files.grouplens.org)|128.101.65.152|:80... connected.\n",
            "HTTP request sent, awaiting response... 200 OK\n",
            "Length: 978202 (955K) [application/zip]\n",
            "Saving to: ‘ml-latest-small.zip’\n",
            "\n",
            "ml-latest-small.zip 100%[===================>] 955.28K   943KB/s    in 1.0s    \n",
            "\n",
            "2021-11-25 22:58:55 (943 KB/s) - ‘ml-latest-small.zip’ saved [978202/978202]\n",
            "\n",
            "Archive:  ml-latest-small.zip\n",
            "   creating: ml-latest-small/\n",
            "  inflating: ml-latest-small/links.csv  \n",
            "  inflating: ml-latest-small/tags.csv  \n",
            "  inflating: ml-latest-small/ratings.csv  \n",
            "  inflating: ml-latest-small/README.txt  \n",
            "  inflating: ml-latest-small/movies.csv  \n"
          ]
        }
      ]
    },
    {
      "cell_type": "markdown",
      "metadata": {
        "id": "HFcHIOalS3Dw"
      },
      "source": [
        "Dapat dilihat kalau ada 5 file di dalam filw ml-latest-small.zip yang di download tadi. Tetapi file yang akan kita load hanya file ratings.csv dan movies.csv ."
      ]
    },
    {
      "cell_type": "code",
      "metadata": {
        "id": "xnrh04rGIBfz"
      },
      "source": [
        "rating = pd.read_csv('ml-latest-small/ratings.csv')\n",
        "movie= pd.read_csv('ml-latest-small/movies.csv')"
      ],
      "execution_count": null,
      "outputs": []
    },
    {
      "cell_type": "code",
      "metadata": {
        "colab": {
          "base_uri": "https://localhost:8080/",
          "height": 206
        },
        "id": "xDfGLJfNIEgD",
        "outputId": "591abf8a-6e8f-44c1-9c92-cd6c39fd3b20"
      },
      "source": [
        "rating.head()"
      ],
      "execution_count": null,
      "outputs": [
        {
          "output_type": "execute_result",
          "data": {
            "text/html": [
              "<div>\n",
              "<style scoped>\n",
              "    .dataframe tbody tr th:only-of-type {\n",
              "        vertical-align: middle;\n",
              "    }\n",
              "\n",
              "    .dataframe tbody tr th {\n",
              "        vertical-align: top;\n",
              "    }\n",
              "\n",
              "    .dataframe thead th {\n",
              "        text-align: right;\n",
              "    }\n",
              "</style>\n",
              "<table border=\"1\" class=\"dataframe\">\n",
              "  <thead>\n",
              "    <tr style=\"text-align: right;\">\n",
              "      <th></th>\n",
              "      <th>userId</th>\n",
              "      <th>movieId</th>\n",
              "      <th>rating</th>\n",
              "      <th>timestamp</th>\n",
              "    </tr>\n",
              "  </thead>\n",
              "  <tbody>\n",
              "    <tr>\n",
              "      <th>0</th>\n",
              "      <td>1</td>\n",
              "      <td>1</td>\n",
              "      <td>4.0</td>\n",
              "      <td>964982703</td>\n",
              "    </tr>\n",
              "    <tr>\n",
              "      <th>1</th>\n",
              "      <td>1</td>\n",
              "      <td>3</td>\n",
              "      <td>4.0</td>\n",
              "      <td>964981247</td>\n",
              "    </tr>\n",
              "    <tr>\n",
              "      <th>2</th>\n",
              "      <td>1</td>\n",
              "      <td>6</td>\n",
              "      <td>4.0</td>\n",
              "      <td>964982224</td>\n",
              "    </tr>\n",
              "    <tr>\n",
              "      <th>3</th>\n",
              "      <td>1</td>\n",
              "      <td>47</td>\n",
              "      <td>5.0</td>\n",
              "      <td>964983815</td>\n",
              "    </tr>\n",
              "    <tr>\n",
              "      <th>4</th>\n",
              "      <td>1</td>\n",
              "      <td>50</td>\n",
              "      <td>5.0</td>\n",
              "      <td>964982931</td>\n",
              "    </tr>\n",
              "  </tbody>\n",
              "</table>\n",
              "</div>"
            ],
            "text/plain": [
              "   userId  movieId  rating  timestamp\n",
              "0       1        1     4.0  964982703\n",
              "1       1        3     4.0  964981247\n",
              "2       1        6     4.0  964982224\n",
              "3       1       47     5.0  964983815\n",
              "4       1       50     5.0  964982931"
            ]
          },
          "metadata": {},
          "execution_count": 4
        }
      ]
    },
    {
      "cell_type": "code",
      "metadata": {
        "colab": {
          "base_uri": "https://localhost:8080/",
          "height": 206
        },
        "id": "jwUAflB4IGM7",
        "outputId": "211e6253-5b60-4969-8d08-859d28464cc8"
      },
      "source": [
        "movie.head()"
      ],
      "execution_count": null,
      "outputs": [
        {
          "output_type": "execute_result",
          "data": {
            "text/html": [
              "<div>\n",
              "<style scoped>\n",
              "    .dataframe tbody tr th:only-of-type {\n",
              "        vertical-align: middle;\n",
              "    }\n",
              "\n",
              "    .dataframe tbody tr th {\n",
              "        vertical-align: top;\n",
              "    }\n",
              "\n",
              "    .dataframe thead th {\n",
              "        text-align: right;\n",
              "    }\n",
              "</style>\n",
              "<table border=\"1\" class=\"dataframe\">\n",
              "  <thead>\n",
              "    <tr style=\"text-align: right;\">\n",
              "      <th></th>\n",
              "      <th>movieId</th>\n",
              "      <th>title</th>\n",
              "      <th>genres</th>\n",
              "    </tr>\n",
              "  </thead>\n",
              "  <tbody>\n",
              "    <tr>\n",
              "      <th>0</th>\n",
              "      <td>1</td>\n",
              "      <td>Toy Story (1995)</td>\n",
              "      <td>Adventure|Animation|Children|Comedy|Fantasy</td>\n",
              "    </tr>\n",
              "    <tr>\n",
              "      <th>1</th>\n",
              "      <td>2</td>\n",
              "      <td>Jumanji (1995)</td>\n",
              "      <td>Adventure|Children|Fantasy</td>\n",
              "    </tr>\n",
              "    <tr>\n",
              "      <th>2</th>\n",
              "      <td>3</td>\n",
              "      <td>Grumpier Old Men (1995)</td>\n",
              "      <td>Comedy|Romance</td>\n",
              "    </tr>\n",
              "    <tr>\n",
              "      <th>3</th>\n",
              "      <td>4</td>\n",
              "      <td>Waiting to Exhale (1995)</td>\n",
              "      <td>Comedy|Drama|Romance</td>\n",
              "    </tr>\n",
              "    <tr>\n",
              "      <th>4</th>\n",
              "      <td>5</td>\n",
              "      <td>Father of the Bride Part II (1995)</td>\n",
              "      <td>Comedy</td>\n",
              "    </tr>\n",
              "  </tbody>\n",
              "</table>\n",
              "</div>"
            ],
            "text/plain": [
              "   movieId  ...                                       genres\n",
              "0        1  ...  Adventure|Animation|Children|Comedy|Fantasy\n",
              "1        2  ...                   Adventure|Children|Fantasy\n",
              "2        3  ...                               Comedy|Romance\n",
              "3        4  ...                         Comedy|Drama|Romance\n",
              "4        5  ...                                       Comedy\n",
              "\n",
              "[5 rows x 3 columns]"
            ]
          },
          "metadata": {},
          "execution_count": 5
        }
      ]
    },
    {
      "cell_type": "markdown",
      "metadata": {
        "id": "sLub-aHhTh4X"
      },
      "source": [
        "Berdasarkan userId yang tidak duplikat ternyata jumlah data rating ada  610 dan berdasarkan movie id yang tidak duplikat ternyata jumlah data movie ada 9742"
      ]
    },
    {
      "cell_type": "code",
      "metadata": {
        "colab": {
          "base_uri": "https://localhost:8080/"
        },
        "id": "eTPXgmfOIH9j",
        "outputId": "23de211d-f075-49c6-cd15-c59b2469fd0b"
      },
      "source": [
        "print('Jumlah data rating film: ', len(rating.userId.unique()))\n",
        "print('Jumlah data film: ', len(movie.movieId.unique()))"
      ],
      "execution_count": null,
      "outputs": [
        {
          "output_type": "stream",
          "name": "stdout",
          "text": [
            "Jumlah data rating film:  610\n",
            "Jumlah data film:  9742\n"
          ]
        }
      ]
    },
    {
      "cell_type": "markdown",
      "metadata": {
        "id": "Pe9dlxtwUXZI"
      },
      "source": [
        "selanjutnya kita cek apakah ada missing value di dataset yang kita gunakan, dapat dilihat pada file rating tidak ada missing value."
      ]
    },
    {
      "cell_type": "code",
      "metadata": {
        "colab": {
          "base_uri": "https://localhost:8080/"
        },
        "id": "pBkDNmmiIMQz",
        "outputId": "b9a3a512-b1f1-4afc-b46e-ae668d472443"
      },
      "source": [
        "rating.info()"
      ],
      "execution_count": null,
      "outputs": [
        {
          "output_type": "stream",
          "name": "stdout",
          "text": [
            "<class 'pandas.core.frame.DataFrame'>\n",
            "RangeIndex: 100836 entries, 0 to 100835\n",
            "Data columns (total 4 columns):\n",
            " #   Column     Non-Null Count   Dtype  \n",
            "---  ------     --------------   -----  \n",
            " 0   userId     100836 non-null  int64  \n",
            " 1   movieId    100836 non-null  int64  \n",
            " 2   rating     100836 non-null  float64\n",
            " 3   timestamp  100836 non-null  int64  \n",
            "dtypes: float64(1), int64(3)\n",
            "memory usage: 3.1 MB\n"
          ]
        }
      ]
    },
    {
      "cell_type": "markdown",
      "metadata": {
        "id": "kHaNNxwsUl8P"
      },
      "source": [
        "selanjutnya kita cek apakah ada missing value di dataset yang kita gunakan, dapat dilihat pada file movie juga tidak ada missing value sama sekali."
      ]
    },
    {
      "cell_type": "code",
      "metadata": {
        "colab": {
          "base_uri": "https://localhost:8080/"
        },
        "id": "EaVI3LGwIPvT",
        "outputId": "4debb87f-634b-4eb5-e50c-c26661e2d9a2"
      },
      "source": [
        "movie.info()"
      ],
      "execution_count": null,
      "outputs": [
        {
          "output_type": "stream",
          "name": "stdout",
          "text": [
            "<class 'pandas.core.frame.DataFrame'>\n",
            "RangeIndex: 9742 entries, 0 to 9741\n",
            "Data columns (total 3 columns):\n",
            " #   Column   Non-Null Count  Dtype \n",
            "---  ------   --------------  ----- \n",
            " 0   movieId  9742 non-null   int64 \n",
            " 1   title    9742 non-null   object\n",
            " 2   genres   9742 non-null   object\n",
            "dtypes: int64(1), object(2)\n",
            "memory usage: 228.5+ KB\n"
          ]
        }
      ]
    },
    {
      "cell_type": "markdown",
      "metadata": {
        "id": "k2DW01SQU1rI"
      },
      "source": [
        "Kita coba cek genre film yang ada, ternyata banyak sekali, bahkan satu film memiliki 2 sampai 3 genre."
      ]
    },
    {
      "cell_type": "code",
      "metadata": {
        "colab": {
          "base_uri": "https://localhost:8080/"
        },
        "id": "AZ3VPePuIRTE",
        "outputId": "e44bc82a-56a0-4209-874f-c27ae89fe373"
      },
      "source": [
        "print('Jumlah genre film: ', movie.genres.unique())"
      ],
      "execution_count": null,
      "outputs": [
        {
          "output_type": "stream",
          "name": "stdout",
          "text": [
            "Jumlah genre film:  ['Adventure|Animation|Children|Comedy|Fantasy'\n",
            " 'Adventure|Children|Fantasy' 'Comedy|Romance' 'Comedy|Drama|Romance'\n",
            " 'Comedy' 'Action|Crime|Thriller' 'Adventure|Children' 'Action'\n",
            " 'Action|Adventure|Thriller' 'Comedy|Horror'\n",
            " 'Adventure|Animation|Children' 'Drama' 'Action|Adventure|Romance'\n",
            " 'Crime|Drama' 'Drama|Romance' 'Action|Comedy|Crime|Drama|Thriller'\n",
            " 'Comedy|Crime|Thriller' 'Crime|Drama|Horror|Mystery|Thriller'\n",
            " 'Drama|Sci-Fi' 'Children|Drama' 'Adventure|Drama|Fantasy|Mystery|Sci-Fi'\n",
            " 'Mystery|Sci-Fi|Thriller' 'Children|Comedy' 'Drama|War'\n",
            " 'Action|Crime|Drama' 'Action|Adventure|Fantasy' 'Comedy|Drama|Thriller'\n",
            " 'Mystery|Thriller' 'Animation|Children|Drama|Musical|Romance'\n",
            " 'Crime|Mystery|Thriller' 'Adventure|Drama' 'Drama|Thriller'\n",
            " 'Comedy|Crime' 'Action|Sci-Fi|Thriller' 'Action|Comedy|Horror|Thriller'\n",
            " 'Comedy|Drama' 'Documentary' 'Action|Crime|Drama|Thriller'\n",
            " 'Crime|Drama|Romance' 'Action|Adventure|Drama' 'Action|Thriller'\n",
            " 'Drama|Horror|Thriller' 'Comedy|Horror|Romance'\n",
            " 'Adventure|Comedy|Crime|Romance' 'Adventure|Children|Comedy|Musical'\n",
            " 'Action|Drama|War' 'Crime|Drama|Thriller' 'Action|Adventure|Comedy|Crime'\n",
            " 'Drama|Mystery' 'Drama|Mystery|Romance' 'Thriller' 'Adventure|Drama|IMAX'\n",
            " 'Action|Drama|Romance|War' 'Drama|Horror' 'Adventure|Drama|War'\n",
            " 'Comedy|War' 'Crime|Drama|Mystery' 'Action|Adventure|Mystery|Sci-Fi'\n",
            " 'Drama|Thriller|War' 'Action|Romance|Western'\n",
            " 'Crime|Film-Noir|Mystery|Thriller' 'Comedy|Crime|Drama'\n",
            " 'Action|Drama|Romance' 'Adventure|Children|Drama'\n",
            " 'Action|Adventure|Crime|Thriller' 'Action|Crime|Sci-Fi' 'Horror'\n",
            " 'Action|Children' 'Comedy|Horror|Thriller' 'Fantasy|Horror|Mystery'\n",
            " 'Comedy|Fantasy' 'Horror|Sci-Fi'\n",
            " 'Action|Crime|Drama|Mystery|Sci-Fi|Thriller' 'Drama|Musical|Romance'\n",
            " 'Drama|Fantasy' 'Action|Adventure|Sci-Fi' 'Western'\n",
            " 'Adventure|Comedy|Crime|Mystery' 'Adventure|Comedy'\n",
            " 'Action|Comedy|Romance' 'Animation|Children|Comedy|Romance'\n",
            " 'Drama|Musical' 'Children|Comedy|Fantasy' 'Comedy|Sci-Fi'\n",
            " 'Adventure|Children|Comedy|Fantasy|Romance' 'Drama|Fantasy|Romance'\n",
            " 'Drama|Romance|War|Western' 'Drama|Horror|Sci-Fi' 'Action|Crime'\n",
            " 'Action|Drama|Sci-Fi|Thriller' 'Comedy|Crime|Drama|Thriller'\n",
            " 'Action|Thriller|Western' 'Horror|Thriller' 'Animation|Children'\n",
            " 'Children|Drama|Fantasy|Mystery' 'Action|Drama|Thriller'\n",
            " 'Comedy|Drama|Fantasy' 'Film-Noir|Thriller' 'Action|Comedy|Sci-Fi'\n",
            " 'Adventure|Drama|Sci-Fi' 'Action|Crime|Horror' 'Children'\n",
            " 'Drama|Film-Noir|Romance' 'Drama|Mystery|Thriller'\n",
            " 'Action|Crime|Fantasy|Thriller' 'Comedy|Drama|Romance|War'\n",
            " 'Action|Comedy' 'Adventure|Children|Romance'\n",
            " 'Adventure|Animation|Children|Drama|Musical|IMAX'\n",
            " 'Drama|Horror|Mystery|Thriller' 'Action|Comedy|Crime|Fantasy'\n",
            " 'Adventure|Comedy|Western' 'Action|Romance|Thriller'\n",
            " 'Action|Adventure|Comedy|Romance|Thriller'\n",
            " 'Drama|Horror|Romance|Thriller' 'Drama|Romance|War' 'Action|Fantasy'\n",
            " 'Comedy|Thriller' 'Action|Comedy|Crime|Thriller' 'Horror|Sci-Fi|Thriller'\n",
            " 'Drama|Mystery|Romance|Thriller' 'Action|Comedy|Drama' 'Drama|Western'\n",
            " 'Action|Adventure|Crime|Drama|Romance|Thriller' 'Action|Comedy|War'\n",
            " 'Action|Adventure|Sci-Fi|Thriller' 'Action|Adventure|Comedy|Fantasy'\n",
            " 'Comedy|Western' 'Comedy|Mystery' 'Comedy|Drama|Romance|Thriller'\n",
            " 'Action|Children|Romance' 'Action|Drama|Sci-Fi' 'Action|Drama'\n",
            " 'Comedy|Mystery|Romance' 'Action|Drama|Mystery'\n",
            " 'Action|Crime|Drama|Sci-Fi|Thriller' 'Crime|Thriller'\n",
            " 'Comedy|Crime|Horror' 'Action|Adventure|Fantasy|Mystery'\n",
            " 'Comedy|Romance|Thriller'\n",
            " 'Action|Adventure|Children|Comedy|Fantasy|Sci-Fi'\n",
            " 'Action|Mystery|Thriller' 'Animation|Children|Fantasy|Musical'\n",
            " 'Action|Adventure|Comedy|Romance' 'Action|Drama|Western'\n",
            " 'Action|Adventure|Animation|Children|Fantasy'\n",
            " 'Comedy|Drama|Fantasy|Romance|Thriller'\n",
            " 'Adventure|Animation|Children|Comedy|Musical' 'Action|Sci-Fi'\n",
            " 'Adventure|Drama|Western' 'Crime|Horror|Thriller'\n",
            " 'Animation|Children|Drama|Fantasy|Musical'\n",
            " 'Animation|Children|Fantasy|Musical|Romance|IMAX' 'Adventure|Western'\n",
            " 'Action|Comedy|Crime' 'Fantasy|Horror'\n",
            " 'Action|Adventure|Animation|Horror|Sci-Fi' 'Action|Horror|Sci-Fi'\n",
            " 'Crime|Drama|Mystery|Thriller'\n",
            " 'Adventure|Animation|Children|Fantasy|Musical|Romance' 'Romance'\n",
            " 'Action|Crime|Drama|War' 'Action|Adventure|Mystery|Thriller'\n",
            " 'Adventure|Animation|Children|Fantasy|Musical' 'Comedy|Drama|War'\n",
            " 'Adventure|Animation|Children|Comedy|Fantasy|Sci-Fi'\n",
            " 'Adventure|Comedy|Sci-Fi' 'Drama|Mystery|Romance|Sci-Fi|Thriller'\n",
            " 'Action|Adventure|Comedy|War' 'Action|Adventure' 'Drama|Mystery|Western'\n",
            " 'Comedy|Fantasy|Sci-Fi' 'Adventure|Animation|Comedy'\n",
            " 'Drama|Fantasy|Horror|Thriller' 'Action|Adventure|Romance|Thriller'\n",
            " 'Animation|Sci-Fi' 'Animation|Children|Comedy' 'Horror|Mystery'\n",
            " 'Comedy|Fantasy|Romance|Sci-Fi' 'Action|Adventure|Drama|Thriller'\n",
            " 'Comedy|Fantasy|Musical' 'Crime|Drama|Romance|Thriller'\n",
            " 'Crime|Drama|Musical|Thriller' 'Sci-Fi|Thriller' 'Children|Drama|Fantasy'\n",
            " 'Adventure|Animation|Children|Musical' 'Adventure|Drama|Romance|War'\n",
            " 'Comedy|Musical|Romance' 'Musical|Romance' 'Comedy|Musical'\n",
            " 'Action|Adventure|Mystery|Romance|Thriller'\n",
            " 'Comedy|Crime|Mystery|Romance|Thriller' 'Film-Noir|Mystery'\n",
            " 'Comedy|Drama|Musical|Romance' 'Musical'\n",
            " 'Adventure|Children|Fantasy|Musical' 'Drama|Film-Noir|Mystery|Thriller'\n",
            " 'Film-Noir|Romance|Thriller' 'Mystery|Romance|Thriller'\n",
            " 'Crime|Mystery|Romance|Thriller' 'Adventure' 'Crime|Film-Noir|Mystery'\n",
            " 'Drama|Romance|Western' 'Children|Drama|Fantasy|Romance'\n",
            " 'Adventure|Comedy|Romance|War' 'Adventure|Comedy|Crime|Drama|Romance'\n",
            " 'Romance|War' 'Crime|Film-Noir' 'Children|Comedy|Western'\n",
            " 'Children|Comedy|Fantasy|Romance' 'Children|Comedy|Romance'\n",
            " 'Children|Comedy|Drama' 'Children|Comedy|Mystery'\n",
            " 'Animation|Children|Fantasy|Musical|Romance' 'Animation|Children|Musical'\n",
            " 'Children|Comedy|Fantasy|Musical' 'Animation|Children|Drama|Musical'\n",
            " 'Adventure|Children|Musical' 'Animation|Children|Drama'\n",
            " 'Action|Horror|Sci-Fi|Thriller' 'Documentary|Drama'\n",
            " 'Animation|Children|Comedy|Fantasy|Musical|Romance'\n",
            " 'Drama|Romance|Thriller' 'Children|Drama|Sci-Fi' 'Action|Romance'\n",
            " 'Adventure|Comedy|Fantasy' 'Animation|Children|Comedy|Crime'\n",
            " 'Animation|Comedy|Drama|Fantasy' 'Crime|Drama|Film-Noir'\n",
            " 'Documentary|Musical' 'Action|Adventure|Comedy|Fantasy|Romance'\n",
            " 'Fantasy|Sci-Fi' 'Action|Adventure|Horror|Sci-Fi'\n",
            " 'Action|Adventure|Western' 'Crime|Drama|Sci-Fi|Thriller'\n",
            " 'Film-Noir|Mystery|Thriller' 'Action|Adventure|Comedy|Fantasy|Horror'\n",
            " 'Adventure|Drama|Romance' 'Crime|Horror' 'Action|Comedy|Musical'\n",
            " 'Adventure|Animation|Children|Comedy|Sci-Fi' 'Drama|Mystery|Sci-Fi'\n",
            " 'Comedy|Fantasy|Horror' 'Crime|Drama|Film-Noir|Thriller'\n",
            " 'Crime|Film-Noir|Thriller' 'Action|Crime|Romance|Thriller'\n",
            " 'Drama|Sci-Fi|Thriller' 'Action|Adventure|Drama|Western'\n",
            " 'Comedy|Horror|Sci-Fi' 'Comedy|Musical|War'\n",
            " 'Action|Comedy|Fantasy|Horror' 'Action|Adventure|Drama|War'\n",
            " 'Action|Drama|Mystery|Romance|Thriller' 'Comedy|Fantasy|Romance'\n",
            " 'Crime|Thriller|War' 'Comedy|Mystery|Thriller' 'Comedy|Drama|Film-Noir'\n",
            " 'Action|Adventure|Animation|Sci-Fi' 'Action|Western'\n",
            " 'Fantasy|Horror|Romance|Thriller' 'Drama|Fantasy|Horror'\n",
            " 'Horror|Mystery|Thriller' 'Adventure|Children|Comedy' 'Adventure|Sci-Fi'\n",
            " 'Action|Mystery|Sci-Fi' 'Action|Comedy|Western' 'Action|Horror'\n",
            " 'Action|Comedy|Crime|Drama|Sci-Fi' 'Adventure|Animation|Comedy|Crime'\n",
            " 'Comedy|Horror|Mystery|Thriller' 'Action|Romance|War|Western'\n",
            " 'Comedy|Drama|Fantasy|Romance' 'Action|Adventure|Comedy|Thriller' 'Crime'\n",
            " 'Crime|Drama|Fantasy|Film-Noir|Mystery|Romance'\n",
            " 'Action|Comedy|Crime|Drama' 'Action|Romance|Sci-Fi|Thriller'\n",
            " 'Comedy|Drama|Mystery|Romance' 'Action|Adventure|Children'\n",
            " 'Comedy|Crime|Romance' 'Action|Adventure|Comedy'\n",
            " 'Action|Adventure|Comedy|Sci-Fi' 'Action|Adventure|Fantasy|Thriller'\n",
            " 'Children|Fantasy' 'Adventure|Romance' 'Action|Thriller|War'\n",
            " 'Children|Comedy|Romance|Sci-Fi' 'Romance|Thriller' 'Comedy|Drama|Sci-Fi'\n",
            " 'Adventure|Animation|Children|Drama|Musical'\n",
            " 'Action|Adventure|Drama|Sci-Fi' 'Action|Children|Comedy'\n",
            " 'Adventure|Film-Noir|Sci-Fi|Thriller' 'Crime|Drama|Fantasy|Thriller'\n",
            " 'Crime|Romance|Thriller' 'Crime|Drama|Mystery|Romance|Thriller'\n",
            " 'Documentary|IMAX' 'Comedy|Crime|Drama|Mystery|Thriller'\n",
            " 'Comedy|Documentary' 'Adventure|Children|Comedy|Fantasy'\n",
            " 'Crime|Drama|Romance|War' 'Adventure|Comedy|Drama'\n",
            " 'Adventure|Comedy|Romance'\n",
            " 'Adventure|Animation|Children|Comedy|Drama|Musical|Romance'\n",
            " 'Action|Crime|Mystery|Sci-Fi|Thriller'\n",
            " 'Comedy|Crime|Drama|Romance|Thriller' 'Animation|Children|Fantasy|War'\n",
            " 'Comedy|Drama|Musical' 'Adventure|Fantasy|Musical'\n",
            " 'Action|Adventure|Children|Comedy|Fantasy'\n",
            " 'Drama|Mystery|Sci-Fi|Thriller' 'Adventure|Comedy|Sci-Fi|Western'\n",
            " 'Children|Fantasy|Musical' 'Adventure|Animation|Children|Fantasy'\n",
            " 'Children|Sci-Fi' 'Children|Comedy|Sci-Fi'\n",
            " 'Action|Adventure|Children|Comedy' 'Adventure|Children|Sci-Fi'\n",
            " 'Action|Animation|Children|Crime' 'Children|Comedy|Fantasy|Horror'\n",
            " 'Adventure|Children|Comedy|Fantasy|Sci-Fi'\n",
            " 'Action|Crime|Drama|Mystery|Thriller' 'Film-Noir' 'Drama|Fantasy|Mystery'\n",
            " 'Animation|Children|Comedy|Musical'\n",
            " 'Animation|Children|Comedy|Musical|Romance' 'Children|Comedy|Musical'\n",
            " 'Children|Musical' 'Adventure|Comedy|Musical'\n",
            " 'Adventure|Animation|Children|Crime|Drama'\n",
            " 'Children|Drama|Fantasy|Mystery|Thriller'\n",
            " 'Adventure|Children|Fantasy|Western'\n",
            " 'Animation|Children|Comedy|Drama|Fantasy' 'Action|Crime|Mystery|Thriller'\n",
            " 'Adventure|Animation|Children|Drama|Fantasy'\n",
            " 'Adventure|Animation|Children|Drama' 'Adventure|Fantasy'\n",
            " 'Adventure|Animation|Children|Comedy'\n",
            " 'Adventure|Animation|Children|Musical|Western'\n",
            " 'Adventure|Fantasy|Romance' 'Adventure|Drama|Fantasy'\n",
            " 'Action|Comedy|Drama|Horror' 'Action|Horror|Thriller'\n",
            " 'Drama|Film-Noir|Thriller' 'Adventure|Drama|Mystery|Thriller'\n",
            " 'Horror|Mystery|Sci-Fi|Thriller' 'Drama|Fantasy|Thriller'\n",
            " 'Adventure|Drama|Fantasy|Romance' 'Sci-Fi'\n",
            " 'Drama|Fantasy|Mystery|Romance' 'Action|Sci-Fi|War'\n",
            " 'Fantasy|Horror|Thriller' 'Horror|Western'\n",
            " 'Action|Adventure|Fantasy|Horror'\n",
            " 'Adventure|Fantasy|Romance|Sci-Fi|Thriller' 'Comedy|Crime|Mystery'\n",
            " 'Action|Drama|Romance|Sci-Fi' 'Animation|Musical'\n",
            " 'Action|Adventure|Thriller|War' 'Comedy|Crime|Mystery|Thriller'\n",
            " 'Action|Adventure|Children|Fantasy|Mystery|Thriller'\n",
            " 'Action|Adventure|Children|Drama'\n",
            " 'Action|Adventure|Drama|Fantasy|Thriller' 'Horror|Mystery|Sci-Fi'\n",
            " 'Drama|Horror|Sci-Fi|Thriller' 'Action|Comedy|Romance|Thriller'\n",
            " 'Action|War' 'Adventure|Comedy|Thriller' 'Action|Sci-Fi|Thriller|Western'\n",
            " 'Drama|Romance|Sci-Fi|Thriller' 'Drama|Film-Noir'\n",
            " 'Action|Adventure|Comedy|Fantasy|Horror|Thriller'\n",
            " 'Action|Adventure|Crime|Sci-Fi|Thriller' 'Adventure|Drama|Mystery'\n",
            " 'Horror|Romance' 'Comedy|Horror|Musical|Sci-Fi' 'War'\n",
            " 'Comedy|Romance|Sci-Fi' 'Animation|Comedy|Musical'\n",
            " 'Action|Comedy|Sci-Fi|Western' 'Action|Comedy|Fantasy'\n",
            " 'Adventure|Drama|Thriller' 'Action|Adventure|Comedy|Fantasy|Mystery'\n",
            " 'Comedy|Horror|Musical' 'Adventure|Animation|Children|Drama|Sci-Fi'\n",
            " 'Drama|Horror|Mystery' 'Action|Mystery' 'Comedy|Horror|Romance|Thriller'\n",
            " 'Action|Drama|Romance|Thriller' 'Animation|Horror|Mystery|Thriller'\n",
            " 'Adventure|Children|Comedy|Drama' 'Adventure|Sci-Fi|Thriller'\n",
            " 'Adventure|Animation|Comedy|Fantasy|Musical' 'Animation|Children|Fantasy'\n",
            " 'Action|Adventure|Comedy|Drama|War' 'Crime|Drama|Western'\n",
            " 'Comedy|Crime|Drama|Fantasy' 'Drama|Film-Noir|Mystery|Romance'\n",
            " 'Musical|Romance|War' 'Adventure|Comedy|Fantasy|Sci-Fi'\n",
            " 'Drama|Fantasy|Musical' 'Action|Crime|Sci-Fi|Thriller'\n",
            " 'Adventure|Animation|Children|Comedy|Crime|Fantasy|Mystery'\n",
            " 'Action|Adventure|Animation|Drama|Fantasy'\n",
            " 'Adventure|Animation|Children|Fantasy|Sci-Fi'\n",
            " 'Fantasy|Horror|Mystery|Romance' 'Action|Fantasy|Horror|Mystery|Thriller'\n",
            " 'Drama|Romance|Sci-Fi' 'Animation|Children|Musical|IMAX'\n",
            " 'Action|Comedy|Horror' 'Action|Crime|Thriller|Western'\n",
            " 'Fantasy|Horror|Mystery|Thriller' 'Romance|Western'\n",
            " 'Adventure|Crime|Drama|Romance' 'Adventure|Crime|Drama'\n",
            " 'Animation|Comedy' 'Action|Children|Comedy|Fantasy|Sci-Fi'\n",
            " 'Action|Children|Fantasy' 'Action|Adventure|Drama|Thriller|Western'\n",
            " 'Crime|Horror|Mystery|Thriller' 'Action|Adventure|Comedy|Western'\n",
            " 'Action|Drama|Thriller|Western' 'Adventure|Animation|Fantasy|Sci-Fi'\n",
            " 'Comedy|Horror|Sci-Fi|Thriller' 'Adventure|Drama|Romance|Sci-Fi'\n",
            " 'Film-Noir|Horror|Mystery|Thriller'\n",
            " 'Action|Adventure|Animation|Children|Sci-Fi'\n",
            " 'Action|Fantasy|Horror|Sci-Fi|Thriller' 'Action|Comedy|Crime|Romance'\n",
            " 'Adventure|Horror|Sci-Fi' 'Adventure|Animation|Children|Sci-Fi'\n",
            " 'Adventure|Comedy|Crime' 'Action|Drama|War|Western'\n",
            " 'Action|Crime|Mystery|Romance|Thriller' 'Romance|Sci-Fi'\n",
            " 'Fantasy|Romance' 'Action|Adventure|Fantasy|Sci-Fi'\n",
            " 'Adventure|Comedy|Horror' 'Animation|Comedy|Fantasy'\n",
            " 'Action|Adventure|War' 'Action|Crime|Drama|Horror|Thriller'\n",
            " 'Crime|Mystery' 'Adventure|Comedy|Mystery|Romance'\n",
            " 'Adventure|Animation|Children|Comedy|Fantasy|Romance'\n",
            " 'Adventure|War|Western' 'Comedy|Drama|Mystery|Thriller'\n",
            " 'Comedy|Drama|Romance|Western' 'Action|Comedy|Sci-Fi|Thriller'\n",
            " 'Adventure|Documentary|IMAX' 'Animation|Drama|Sci-Fi|IMAX'\n",
            " 'Action|Comedy|Horror|Sci-Fi' 'Comedy|Musical|Sci-Fi'\n",
            " 'Drama|Musical|Mystery' 'Crime|Musical' 'Comedy|Musical|Western'\n",
            " 'Action|Animation|Comedy|Crime|Drama|Romance|Thriller'\n",
            " 'Action|Adventure|Drama|Romance' 'Comedy|Fantasy|Horror|Musical|Thriller'\n",
            " 'Crime|Horror|Mystery' 'Action|Adventure|Drama|Romance|Thriller'\n",
            " 'Action|Comedy|Romance|War' 'Action|Adventure|Comedy|Drama'\n",
            " 'Adventure|Thriller' 'Crime|Drama|Film-Noir|Mystery|Thriller'\n",
            " 'Action|Animation|Sci-Fi' 'Animation|Drama|Fantasy'\n",
            " 'Drama|Fantasy|Mystery|Sci-Fi' 'Drama|Fantasy|Horror|Thriller|War'\n",
            " 'Fantasy|Mystery|Thriller'\n",
            " 'Action|Adventure|Comedy|Drama|Romance|Thriller'\n",
            " 'Mystery|Romance|Sci-Fi|Thriller' 'Adventure|Crime|Drama|Thriller'\n",
            " 'Comedy|Drama|Mystery' 'Animation|Fantasy'\n",
            " 'Drama|Fantasy|Horror|Mystery|Thriller'\n",
            " 'Drama|Fantasy|Mystery|Romance|Thriller'\n",
            " 'Animation|Fantasy|Horror|Sci-Fi' 'Documentary|War'\n",
            " 'Children|Horror|Mystery|Thriller' 'Musical|Western'\n",
            " 'Action|Adventure|Sci-Fi|IMAX' 'Adventure|Animation|Children|Western'\n",
            " 'Adventure|Children|Comedy|Fantasy|Mystery'\n",
            " 'Adventure|Drama|Horror|Mystery|Thriller' 'Comedy|Sci-Fi|Thriller'\n",
            " 'Action|Animation|Children|Comedy' 'Children|Drama|Musical'\n",
            " 'Comedy|Drama|Fantasy|Sci-Fi' 'Action|Adventure|Fantasy|Romance'\n",
            " 'Comedy|Crime|Romance|Thriller' 'Adventure|War'\n",
            " 'Comedy|Crime|Musical|Mystery' 'Adventure|Animation|Fantasy'\n",
            " 'Animation|Comedy|War' 'Action|Adventure|Comedy|Crime|Drama'\n",
            " 'Animation|Drama|War' 'Documentary|Horror' 'Action|Horror|Mystery|Sci-Fi'\n",
            " 'Action|Comedy|Documentary' 'Adventure|Animation|Children|Sci-Fi|IMAX'\n",
            " 'Comedy|Drama|Horror' 'Animation|Children|Drama|Fantasy'\n",
            " 'Comedy|Crime|Drama|Musical' 'Action|Adventure|Animation|Fantasy|Sci-Fi'\n",
            " 'Action|Adventure|Crime|Drama|Thriller' 'Comedy|Crime|Drama|Romance'\n",
            " 'Comedy|Documentary|Musical' 'Action|Animation|Sci-Fi|Thriller'\n",
            " 'Adventure|Children|Comedy|Mystery' 'Mystery|Sci-Fi'\n",
            " 'Adventure|Children|Comedy|Fantasy|Musical'\n",
            " 'Action|Adventure|Animation|Children|Fantasy|Sci-Fi'\n",
            " 'Action|Adventure|Sci-Fi|Thriller|IMAX'\n",
            " 'Action|Drama|Horror|Sci-Fi|Thriller' 'Drama|War|Western'\n",
            " 'Comedy|Crime|Mystery|Romance' 'Comedy|War|Western'\n",
            " 'Action|Adventure|Comedy|Crime|Thriller' 'Action|Fantasy|Sci-Fi'\n",
            " 'Action|Comedy|Thriller' 'Comedy|Crime|Drama|War'\n",
            " 'Adventure|Comedy|Crime|Thriller' 'Action|Adventure|Children|Fantasy'\n",
            " 'Drama|Fantasy|Musical|Romance' 'Animation|Drama|Romance'\n",
            " 'Comedy|Romance|Sci-Fi|Thriller' 'Action|Fantasy|Horror'\n",
            " 'Fantasy|Horror|Sci-Fi|Thriller' 'Comedy|Musical|Romance|Western'\n",
            " 'Drama|Fantasy|Sci-Fi' 'Children|Comedy|Crime|Musical'\n",
            " 'Action|Adventure|Animation|Fantasy' 'Crime|Documentary'\n",
            " 'Adventure|Comedy|Drama|Fantasy|Mystery|Sci-Fi|Thriller'\n",
            " 'Action|Animation|Children|Fantasy' 'Comedy|Mystery|Sci-Fi'\n",
            " 'Adventure|Thriller|Western' 'Comedy|Crime|Drama|Mystery|Romance'\n",
            " 'Action|Crime|Fantasy|Sci-Fi|Thriller' 'Crime|Fantasy|Horror'\n",
            " 'Action|Drama|Horror|Thriller' 'Comedy|Fantasy|Horror|Thriller'\n",
            " 'Action|Drama|Romance|Western' 'Adventure|Animation|Drama|Fantasy|Sci-Fi'\n",
            " 'Animation|Drama|Sci-Fi|War' 'Action|Adventure|Drama|Fantasy'\n",
            " 'Adventure|Drama|Romance|Thriller|War'\n",
            " 'Crime|Drama|Film-Noir|Romance|Thriller' 'Drama|Film-Noir|Mystery'\n",
            " 'Action|Comedy|Crime|Drama|Horror|Thriller' 'Adventure|Documentary'\n",
            " 'Action|Adventure|Children|Comedy|Crime'\n",
            " 'Animation|Comedy|Fantasy|Musical'\n",
            " 'Action|Adventure|Children|Comedy|Mystery' 'Action|Drama|Horror'\n",
            " 'Musical|Romance|Western' 'Action|Drama|Thriller|War'\n",
            " 'Comedy|Crime|Drama|Musical|Mystery|Romance' 'Adventure|Comedy|War'\n",
            " 'Fantasy|Musical|Romance' 'Drama|Thriller|Western' 'Crime|Horror|Sci-Fi'\n",
            " 'Animation|Fantasy|Thriller' 'Children|Comedy|Fantasy|Sci-Fi' 'Mystery'\n",
            " 'Action|Adventure|Animation|Comedy|Crime|Mystery'\n",
            " 'Adventure|Animation|Children|Comedy|Musical|Romance'\n",
            " 'Action|Adventure|Drama|Sci-Fi|Thriller' 'Adventure|Fantasy|IMAX'\n",
            " 'Action|Crime|Horror|Mystery|Thriller' 'Comedy|Fantasy|Thriller'\n",
            " 'Animation|Comedy|Drama|Fantasy|Sci-Fi' 'Comedy|Documentary|Drama'\n",
            " 'Crime|Drama|Film-Noir|Romance'\n",
            " 'Action|Adventure|Drama|Romance|Thriller|Western' 'Crime|Drama|Horror'\n",
            " 'Adventure|Comedy|Fantasy|Musical' 'Adventure|Animation|Drama'\n",
            " 'Comedy|Drama|Fantasy|Mystery' 'Action|Crime|Fantasy'\n",
            " 'Comedy|Drama|Sci-Fi|War' 'Adventure|Fantasy|Sci-Fi'\n",
            " 'Adventure|Drama|Horror|Sci-Fi|Thriller'\n",
            " 'Action|Adventure|Animation|Comedy'\n",
            " 'Action|Adventure|Animation|Children|Comedy'\n",
            " 'Adventure|Animation|Children|Fantasy|IMAX'\n",
            " 'Action|Adventure|Drama|Mystery|Thriller'\n",
            " 'Action|Fantasy|Horror|Thriller' 'Fantasy' 'Crime|Documentary|War'\n",
            " 'Children|Comedy|Musical|Romance' 'Drama|Horror|War'\n",
            " 'Action|Adventure|Comedy|Drama|Romance|War' 'Fantasy|Western'\n",
            " 'Adventure|Comedy|Horror|Romance'\n",
            " 'Action|Adventure|Animation|Children|Comedy|Fantasy'\n",
            " 'Action|Adventure|Children|Crime|Mystery|Thriller'\n",
            " 'Adventure|Children|Fantasy|Sci-Fi' 'Action|Fantasy|Horror|Romance'\n",
            " 'Animation|Fantasy|Mystery'\n",
            " 'Action|Animation|Crime|Drama|Film-Noir|Mystery|Sci-Fi|Thriller'\n",
            " 'Animation|Drama' 'Action|Fantasy|Sci-Fi|Thriller|War'\n",
            " 'Adventure|Animation|Comedy|Fantasy|Romance' 'Drama|Romance|Thriller|War'\n",
            " 'Adventure|Drama|Fantasy|Horror|Sci-Fi'\n",
            " 'Drama|Fantasy|Horror|Mystery|Sci-Fi|Thriller' 'Action|Animation'\n",
            " 'Adventure|Animation|Children|Musical|Romance'\n",
            " 'Action|Documentary|Drama|Thriller'\n",
            " 'Action|Adventure|Comedy|Sci-Fi|Thriller'\n",
            " 'Action|Adventure|Drama|Fantasy|Romance'\n",
            " 'Action|Animation|Drama|Fantasy|Sci-Fi' 'Drama|Fantasy|Romance|Sci-Fi'\n",
            " 'Action|Animation|Crime|Sci-Fi|Thriller'\n",
            " 'Drama|Horror|Mystery|Romance|Thriller'\n",
            " 'Action|Comedy|Crime|Fantasy|Thriller' 'Crime|Drama|Mystery|Thriller|War'\n",
            " 'Comedy|Drama|Romance|Sci-Fi' 'Action|Animation|Horror'\n",
            " 'Comedy|Crime|Horror|Mystery|Thriller' 'Comedy|Fantasy|Mystery|Sci-Fi'\n",
            " 'Comedy|Crime|Drama|Sci-Fi|Thriller' 'Action|Comedy|Horror|Musical'\n",
            " 'Drama|Sci-Fi|War' 'Action|Animation|Drama|Sci-Fi'\n",
            " 'Action|Comedy|Horror|Sci-Fi|Thriller|Western' 'Action|Comedy|Drama|War'\n",
            " 'Drama|Mystery|Romance|War' 'Action|Animation|Drama|Sci-Fi|Thriller'\n",
            " 'Children|Comedy|Crime|Drama|Fantasy' 'Action|Horror|Sci-Fi|War'\n",
            " 'Animation|Drama|Mystery|Sci-Fi|Thriller' 'Action|Drama|Fantasy|Sci-Fi'\n",
            " 'Comedy|Crime|Drama|Horror|Mystery'\n",
            " 'Adventure|Children|Comedy|Fantasy|IMAX' 'Animation|Documentary'\n",
            " 'Drama|Horror|Mystery|Sci-Fi|Thriller' 'Animation|Fantasy|Sci-Fi|War'\n",
            " 'Action|Animation|Fantasy|Sci-Fi' 'Action|Adventure|Crime|Drama'\n",
            " 'Action|Adventure|Comedy|Crime|Romance|Thriller'\n",
            " 'Action|Adventure|Drama|Romance|War'\n",
            " 'Adventure|Animation|Fantasy|Romance'\n",
            " 'Action|Fantasy|Horror|Mystery|Sci-Fi|Thriller'\n",
            " 'Adventure|Comedy|Crime|Drama|Mystery|Thriller'\n",
            " 'Comedy|Crime|Drama|Mystery' 'Comedy|Crime|Musical'\n",
            " 'Adventure|Animation|Children|Comedy|Fantasy|Sci-Fi|IMAX'\n",
            " 'Adventure|Comedy|Documentary' 'Comedy|Crime|Drama|Western'\n",
            " 'Adventure|Drama|War|Western' 'Animation|Fantasy|Sci-Fi|Thriller'\n",
            " 'Action|Crime|Film-Noir|Mystery|Thriller' 'Animation|Comedy|Sci-Fi'\n",
            " 'Animation|Fantasy|Horror' 'Children|Documentary' 'Action|Crime|IMAX'\n",
            " 'Adventure|Animation|Children|Comedy|Fantasy|War'\n",
            " 'Action|Adventure|Horror|Mystery|Sci-Fi|Thriller'\n",
            " 'Action|Crime|Drama|Thriller|War' 'Fantasy|Mystery|Romance|Thriller'\n",
            " 'Crime|Drama|Horror|Thriller' 'Animation|Comedy|Fantasy|Musical|Romance'\n",
            " 'Adventure|Children|Drama|Fantasy' 'Action|Horror|Mystery|Thriller'\n",
            " 'Adventure|Comedy|Fantasy|Horror'\n",
            " 'Action|Adventure|Animation|Children|Comedy|Sci-Fi'\n",
            " 'Adventure|Drama|Horror|Thriller' 'Adventure|Fantasy|Thriller|IMAX'\n",
            " 'Crime|Drama|Thriller|War' 'Action|Adventure|Comedy|Drama|Romance'\n",
            " 'Animation|Drama|Romance|Sci-Fi' 'Fantasy|Mystery|Western'\n",
            " 'Adventure|Comedy|Drama|Fantasy' 'Action|Comedy|Crime|Western'\n",
            " 'Action|Crime|Drama|Horror' 'Action|Fantasy|Sci-Fi|Thriller'\n",
            " 'Action|Drama|Fantasy|Horror|Mystery|Sci-Fi|Thriller'\n",
            " 'Action|Animation|Children|Sci-Fi' 'Action|Sci-Fi|Thriller|IMAX'\n",
            " 'Comedy|Fantasy|Horror|Sci-Fi' 'Action|Crime|Mystery'\n",
            " 'Crime|Drama|Film-Noir|Mystery'\n",
            " 'Action|Animation|Film-Noir|Sci-Fi|Thriller'\n",
            " 'Action|Adventure|Thriller|IMAX' 'Adventure|Comedy|Drama|Fantasy|Romance'\n",
            " 'Children|Comedy|Drama|Musical|Romance' 'Comedy|Documentary|Romance'\n",
            " 'Animation|Children|Fantasy|Mystery' 'Comedy|Fantasy|Mystery'\n",
            " 'Action|Comedy|Fantasy|IMAX'\n",
            " 'Adventure|Animation|Children|Comedy|Fantasy|IMAX'\n",
            " 'Adventure|Animation|Comedy|Fantasy|Romance|Sci-Fi' 'Crime|Drama|Musical'\n",
            " 'Adventure|Comedy|Sci-Fi|Thriller'\n",
            " 'Adventure|Animation|Children|Comedy|IMAX' 'Documentary|Drama|War'\n",
            " 'Crime|Western' 'Action|Adventure|Crime|Drama|Thriller|War'\n",
            " 'Children|Comedy|Drama|Fantasy' 'Drama|Fantasy|Horror|Romance'\n",
            " 'Action|Fantasy|Thriller' 'Action|Comedy|Crime|Mystery'\n",
            " 'Action|Comedy|Drama|Horror|Thriller' 'Action|Fantasy|War|IMAX'\n",
            " 'Comedy|Drama|Horror|Sci-Fi|Thriller' 'Drama|Fantasy|Mystery|Thriller'\n",
            " 'Action|Crime|Horror|Sci-Fi|Thriller' 'Adventure|Drama|Sci-Fi|Thriller'\n",
            " 'Action|Adventure|Animation|Comedy|Fantasy|Mystery|Sci-Fi'\n",
            " 'Crime|Drama|Fantasy|Mystery|Thriller' 'Action|Crime|Horror|Thriller'\n",
            " 'Animation|Mystery|Sci-Fi' 'Adventure|Crime|Thriller'\n",
            " 'Action|Adventure|Crime|Horror|Thriller' 'Adventure|Drama|Fantasy|IMAX'\n",
            " 'Adventure|Comedy|Fantasy|Romance' 'Action|Adventure|Fantasy|War'\n",
            " 'Action|Crime|Drama|Western' 'Action|Adventure|Comedy|Drama|Thriller'\n",
            " 'Action|Adventure|Animation|Crime|Fantasy'\n",
            " 'Action|Adventure|Animation|Fantasy|IMAX' 'Comedy|Drama|Sci-Fi|Thriller'\n",
            " 'Adventure|Animation|Children|Comedy|Fantasy|Musical|Romance'\n",
            " 'Action|Horror|Sci-Fi|Thriller|IMAX' 'Drama|Horror|Musical|Thriller'\n",
            " 'Action|Mystery|Sci-Fi|Thriller' 'Adventure|Animation|Drama|Horror'\n",
            " 'Animation|Comedy|Drama|Romance|Sci-Fi' 'Crime|Sci-Fi'\n",
            " 'Adventure|Children|Drama|Fantasy|IMAX' 'Adventure|Romance|Thriller'\n",
            " 'Crime|Drama|War' 'Action|Crime|Drama|IMAX' 'Documentary|Musical|IMAX'\n",
            " 'Action|Children|Sci-Fi|IMAX' 'Action|Animation|Children|Comedy|IMAX'\n",
            " 'Comedy|Crime|Drama|Horror' 'Action|Comedy|Drama|Thriller'\n",
            " 'Adventure|Animation|Children|Romance|Sci-Fi'\n",
            " 'Action|Adventure|Comedy|Crime|Fantasy'\n",
            " 'Action|Animation|Comedy|Romance|Sci-Fi' 'Children|Comedy|Drama|Mystery'\n",
            " 'Animation|Children|Comedy|Fantasy|Musical'\n",
            " 'Action|Adventure|Horror|Sci-Fi|Thriller'\n",
            " 'Adventure|Children|Comedy|Romance|Sci-Fi'\n",
            " 'Action|Comedy|Fantasy|Horror|Thriller'\n",
            " 'Action|Drama|Mystery|Sci-Fi|Thriller|IMAX' 'Adventure|Fantasy|Thriller'\n",
            " 'Action|Animation|Crime' 'Adventure|Comedy|Drama|Romance'\n",
            " 'Animation|Documentary|Drama|War' 'Action|Comedy|Fantasy|Thriller'\n",
            " 'Action|Animation|Comedy|Horror' 'Action|Crime|Thriller|IMAX'\n",
            " 'Animation|Comedy|Fantasy|Sci-Fi'\n",
            " 'Action|Adventure|Animation|Comedy|Fantasy|Sci-Fi'\n",
            " 'Action|Adventure|Animation|Children|Comedy|IMAX'\n",
            " 'Children|Fantasy|Musical|Romance' 'Drama|Fantasy|Romance|Thriller'\n",
            " 'Adventure|Animation|Comedy|Fantasy' 'Drama|Sci-Fi|Thriller|IMAX'\n",
            " 'Action|Adventure|Animation' 'Action|Animation|Comedy|Sci-Fi' 'Animation'\n",
            " 'Adventure|Comedy|Mystery' 'Comedy|Drama|Musical|Sci-Fi'\n",
            " 'Comedy|Crime|Horror|Thriller' 'Action|Drama|Mystery|Sci-Fi|Thriller'\n",
            " 'Animation|Sci-Fi|IMAX' 'Drama|Fantasy|Sci-Fi|Thriller'\n",
            " 'Action|Comedy|IMAX' 'Adventure|Fantasy|Musical|Romance'\n",
            " 'Action|Animation|Mystery|Sci-Fi' 'Action|Adventure|Animation|Drama'\n",
            " 'Action|Adventure|Comedy|Horror'\n",
            " 'Action|Adventure|Animation|Children|Comedy|Romance'\n",
            " 'Action|Adventure|Animation|Horror'\n",
            " 'Adventure|Fantasy|Mystery|Romance|IMAX'\n",
            " 'Adventure|Children|Fantasy|Sci-Fi|Thriller'\n",
            " 'Comedy|Documentary|Drama|Romance' 'Adventure|Animation|Sci-Fi'\n",
            " 'Animation|Children|Fantasy|IMAX'\n",
            " 'Action|Animation|Comedy|Horror|Thriller' 'Animation|Comedy|Drama'\n",
            " 'Action|Adventure|Drama|Fantasy|Romance|Sci-Fi|Thriller'\n",
            " 'Action|Comedy|Drama|Romance' 'Adventure|Animation|Children|Comedy|Crime'\n",
            " 'Animation|Children|Drama|Fantasy|IMAX'\n",
            " 'Animation|Children|Comedy|Fantasy'\n",
            " 'Drama|Fantasy|Horror|Romance|Thriller'\n",
            " 'Action|Adventure|Animation|Comedy|Thriller'\n",
            " 'Crime|Drama|Fantasy|Horror|Thriller' 'Children|Drama|Romance'\n",
            " 'Horror|Thriller|Western' 'Comedy|Musical|Sci-Fi|Western'\n",
            " 'Action|Adventure|Fantasy|Romance|IMAX' 'Fantasy|Romance|Thriller|IMAX'\n",
            " 'Action|Crime|Drama|Mystery|Sci-Fi|Thriller|IMAX' 'Action|Children|Drama'\n",
            " 'Action|Comedy|Fantasy|Musical|Romance' 'Documentary|Drama|Mystery'\n",
            " 'Adventure|Animation|Fantasy|IMAX' 'Documentary|Mystery'\n",
            " 'Action|Adventure|Comedy|Crime|Drama|Film-Noir|Horror|Mystery|Thriller|Western'\n",
            " 'Horror|IMAX' 'Action|Animation|Children|Comedy|Sci-Fi|IMAX'\n",
            " 'Action|Adventure|Fantasy|IMAX'\n",
            " 'Animation|Children|Comedy|Fantasy|Musical|Romance|IMAX' 'Crime|Romance'\n",
            " 'Adventure|Documentary|Western'\n",
            " 'Action|Comedy|Crime|Fantasy|Thriller|IMAX' 'Action|Fantasy|Western'\n",
            " 'Action|Sci-Fi|Thriller|Western|IMAX'\n",
            " 'Action|Adventure|Animation|Children|Comedy|Western'\n",
            " 'Romance|Sci-Fi|Thriller' 'Adventure|Animation|Comedy|Sci-Fi'\n",
            " 'Action|Adventure|Animation|Children|Comedy|Sci-Fi|IMAX'\n",
            " 'Action|Fantasy|Thriller|IMAX' 'Animation|Children|Comedy|Horror'\n",
            " 'Action|Adventure|Drama|Fantasy|IMAX' 'Action|Crime|Drama|Thriller|IMAX'\n",
            " 'Drama|Mystery|War' 'Action|Adventure|Sci-Fi|Thriller|War'\n",
            " 'Mystery|Sci-Fi|Thriller|IMAX' 'Action|Adventure|Sci-Fi|War|IMAX'\n",
            " 'Action|Adventure|Drama|Fantasy|Mystery|IMAX' 'Horror|Thriller|IMAX'\n",
            " 'Sci-Fi|Thriller|IMAX' 'Action|Drama|Sci-Fi|IMAX' 'Crime|Sci-Fi|Thriller'\n",
            " 'Action|Drama|Mystery|Thriller' 'Adventure|Animation|Comedy|Fantasy|IMAX'\n",
            " 'Action|Animation|Mystery|IMAX' 'Children|Drama|Mystery'\n",
            " 'Action|Drama|Fantasy' 'Animation|Children|Comedy|IMAX'\n",
            " 'Animation|Children|Comedy|Drama' 'Action|Crime|Film-Noir'\n",
            " 'Action|Adventure|Crime|IMAX' 'Action|Adventure|Drama|Thriller|IMAX'\n",
            " 'Action|Adventure|Comedy|Crime|Mystery|Thriller'\n",
            " 'Action|Fantasy|Horror|IMAX' 'Crime|Drama|Fantasy'\n",
            " 'Action|Adventure|Comedy|Sci-Fi|IMAX' 'Action|Adventure|Horror'\n",
            " 'Crime|Thriller|Western' 'Animation|Fantasy|Musical|IMAX'\n",
            " 'Action|Animation|Fantasy' 'Comedy|Horror|IMAX'\n",
            " 'Action|Comedy|Sci-Fi|IMAX' 'Action|Horror|Sci-Fi|IMAX'\n",
            " 'Action|Adventure|Animation|Children'\n",
            " 'Action|Adventure|Animation|Sci-Fi|Thriller' 'Comedy|Drama|Musical|IMAX'\n",
            " 'Children|Musical|Mystery' 'Drama|Fantasy|Musical|Mystery|Sci-Fi'\n",
            " 'Animation|Comedy|Horror|IMAX' 'Drama|Sci-Fi|IMAX'\n",
            " 'Action|Adventure|Comedy|Documentary|Fantasy' 'Action|Adventure|Crime'\n",
            " 'Children|Crime|Drama' 'Adventure|Drama|Fantasy|Romance|IMAX'\n",
            " 'Animation|Comedy|Romance' 'Drama|Musical|Romance|IMAX'\n",
            " 'Adventure|Comedy|Fantasy|Romance|IMAX' 'Animation|Comedy|Horror|Musical'\n",
            " 'Action|Animation|Comedy' 'Children|Horror|Sci-Fi' 'Action|Drama|IMAX'\n",
            " 'Documentary|Fantasy' 'Action|Adventure|Fantasy|Sci-Fi|IMAX'\n",
            " 'Action|Drama|Horror|IMAX' 'Action|Drama|Thriller|IMAX'\n",
            " 'Action|Adventure|Western|IMAX' 'Drama|Fantasy|Thriller|War'\n",
            " 'Action|IMAX' 'Action|Sci-Fi|IMAX' 'Adventure|Comedy|Musical|Sci-Fi'\n",
            " 'Adventure|Drama|Thriller|IMAX' 'Children|Drama|War'\n",
            " 'Adventure|Animation|Comedy|Fantasy|Musical|Romance'\n",
            " 'Action|Animation|Drama' 'Drama|Horror|Romance'\n",
            " 'Action|Animation|Fantasy|IMAX' 'Adventure|Romance|Sci-Fi|IMAX'\n",
            " 'Adventure|Animation|Children|Comedy|Drama|Romance'\n",
            " 'Action|Fantasy|Sci-Fi|IMAX' 'Action|Crime|Sci-Fi|IMAX'\n",
            " 'Animation|Comedy|Drama|Romance' 'Sci-Fi|IMAX' 'Animation|Romance'\n",
            " 'Action|Drama|War|IMAX' 'Action|Animation|Children|Comedy|Musical'\n",
            " 'Action|Adventure|Children|IMAX' 'Action|Animation|Children'\n",
            " 'Animation|Drama|Fantasy|Mystery' 'Action|Animation|Crime|Thriller'\n",
            " 'Documentary|Drama|Musical' '(no genres listed)' 'Adventure|Animation'\n",
            " 'Adventure|Animation|Romance' 'Animation|Children|Comedy|Musical|Sci-Fi'\n",
            " 'Action|Adventure|Comedy|Drama|Fantasy|Thriller'\n",
            " 'Documentary|Drama|Thriller' 'Adventure|Mystery|Thriller'\n",
            " 'Horror|Romance|Thriller' 'Animation|Children|Mystery'\n",
            " 'Comedy|Drama|Fantasy|Mystery|Romance' 'Crime|Drama|Horror|Mystery'\n",
            " 'Adventure|Romance|Sci-Fi' 'Horror|Sci-Fi|Western'\n",
            " 'Action|Adventure|Children|Comedy|Sci-Fi'\n",
            " 'Action|Adventure|Animation|Comedy|Sci-Fi' 'Horror|Romance|Sci-Fi'\n",
            " 'Action|Adventure|Children|Mystery|Sci-Fi' 'Comedy|Crime|Sci-Fi'\n",
            " 'Action|Comedy|Fantasy|Sci-Fi'\n",
            " 'Adventure|Animation|Children|Comedy|Drama|Fantasy'\n",
            " 'Adventure|Children|Comedy|Sci-Fi' 'Action|Animation|Crime|Sci-Fi'\n",
            " 'Action|Adventure|Romance|Sci-Fi' 'Action|Crime|Drama|Sci-Fi'\n",
            " 'Animation|Children|Comedy|Drama|Romance' 'Action|Fantasy|Mystery'\n",
            " 'Comedy|Horror|Mystery' 'Comedy|Crime|Fantasy' 'Animation|Horror|Mystery'\n",
            " 'Comedy|Romance|Western' 'Adventure|Drama|Fantasy|Sci-Fi'\n",
            " 'Adventure|Children|Drama|Sci-Fi'\n",
            " 'Adventure|Children|Comedy|Drama|Fantasy|Sci-Fi'\n",
            " 'Animation|Fantasy|Horror|Mystery'\n",
            " 'Adventure|Animation|Fantasy|Horror|Sci-Fi'\n",
            " 'Action|Animation|Crime|Drama'\n",
            " 'Action|Adventure|Animation|Drama|Fantasy|Sci-Fi'\n",
            " 'Action|Animation|Mystery' 'Animation|Drama|Sci-Fi'\n",
            " 'Animation|Drama|Fantasy|Romance'\n",
            " 'Action|Adventure|Comedy|Fantasy|Sci-Fi|Thriller'\n",
            " 'Action|Adventure|Fantasy|Horror|Thriller' 'Comedy|Sci-Fi|War'\n",
            " 'Comedy|Mystery|Romance|Thriller' 'Fantasy|Horror|Sci-Fi|Western'\n",
            " 'Animation|Crime|Drama' 'Adventure|Mystery|Sci-Fi|Thriller'\n",
            " 'Action|Comedy|Crime|Horror' 'Action|Adventure|Children|Sci-Fi'\n",
            " 'Action|Adventure|Comedy|Fantasy|Sci-Fi'\n",
            " 'Action|Animation|Comedy|Fantasy']\n"
          ]
        }
      ]
    },
    {
      "cell_type": "markdown",
      "metadata": {
        "id": "rvhQWOvvX-Jw"
      },
      "source": [
        "Sebelum file rating dan movie di gabungkan, kolom timestamp pada file rating akan dihapus karena kurang relevan"
      ]
    },
    {
      "cell_type": "code",
      "metadata": {
        "id": "DN31Xir9ITL1"
      },
      "source": [
        "rating.drop('timestamp', axis = 1, inplace=True)"
      ],
      "execution_count": null,
      "outputs": []
    },
    {
      "cell_type": "markdown",
      "metadata": {
        "id": "F5-ujyGwYIsE"
      },
      "source": [
        "lalu gabungkan file rating dan movie, lalu simpan di variabel baru bernama user_movie_rating"
      ]
    },
    {
      "cell_type": "code",
      "metadata": {
        "colab": {
          "base_uri": "https://localhost:8080/",
          "height": 206
        },
        "id": "IxCV1PF_IVxM",
        "outputId": "0f67a95e-fc62-465a-c213-0324c7e89307"
      },
      "source": [
        "user_movie_rating = pd.merge(rating, movie, on = 'movieId', how='left')\n",
        "user_movie_rating.head()"
      ],
      "execution_count": null,
      "outputs": [
        {
          "output_type": "execute_result",
          "data": {
            "text/html": [
              "<div>\n",
              "<style scoped>\n",
              "    .dataframe tbody tr th:only-of-type {\n",
              "        vertical-align: middle;\n",
              "    }\n",
              "\n",
              "    .dataframe tbody tr th {\n",
              "        vertical-align: top;\n",
              "    }\n",
              "\n",
              "    .dataframe thead th {\n",
              "        text-align: right;\n",
              "    }\n",
              "</style>\n",
              "<table border=\"1\" class=\"dataframe\">\n",
              "  <thead>\n",
              "    <tr style=\"text-align: right;\">\n",
              "      <th></th>\n",
              "      <th>userId</th>\n",
              "      <th>movieId</th>\n",
              "      <th>rating</th>\n",
              "      <th>title</th>\n",
              "      <th>genres</th>\n",
              "    </tr>\n",
              "  </thead>\n",
              "  <tbody>\n",
              "    <tr>\n",
              "      <th>0</th>\n",
              "      <td>1</td>\n",
              "      <td>1</td>\n",
              "      <td>4.0</td>\n",
              "      <td>Toy Story (1995)</td>\n",
              "      <td>Adventure|Animation|Children|Comedy|Fantasy</td>\n",
              "    </tr>\n",
              "    <tr>\n",
              "      <th>1</th>\n",
              "      <td>1</td>\n",
              "      <td>3</td>\n",
              "      <td>4.0</td>\n",
              "      <td>Grumpier Old Men (1995)</td>\n",
              "      <td>Comedy|Romance</td>\n",
              "    </tr>\n",
              "    <tr>\n",
              "      <th>2</th>\n",
              "      <td>1</td>\n",
              "      <td>6</td>\n",
              "      <td>4.0</td>\n",
              "      <td>Heat (1995)</td>\n",
              "      <td>Action|Crime|Thriller</td>\n",
              "    </tr>\n",
              "    <tr>\n",
              "      <th>3</th>\n",
              "      <td>1</td>\n",
              "      <td>47</td>\n",
              "      <td>5.0</td>\n",
              "      <td>Seven (a.k.a. Se7en) (1995)</td>\n",
              "      <td>Mystery|Thriller</td>\n",
              "    </tr>\n",
              "    <tr>\n",
              "      <th>4</th>\n",
              "      <td>1</td>\n",
              "      <td>50</td>\n",
              "      <td>5.0</td>\n",
              "      <td>Usual Suspects, The (1995)</td>\n",
              "      <td>Crime|Mystery|Thriller</td>\n",
              "    </tr>\n",
              "  </tbody>\n",
              "</table>\n",
              "</div>"
            ],
            "text/plain": [
              "   userId  ...                                       genres\n",
              "0       1  ...  Adventure|Animation|Children|Comedy|Fantasy\n",
              "1       1  ...                               Comedy|Romance\n",
              "2       1  ...                        Action|Crime|Thriller\n",
              "3       1  ...                             Mystery|Thriller\n",
              "4       1  ...                       Crime|Mystery|Thriller\n",
              "\n",
              "[5 rows x 5 columns]"
            ]
          },
          "metadata": {},
          "execution_count": 11
        }
      ]
    },
    {
      "cell_type": "markdown",
      "metadata": {
        "id": "6gOk59lVaWvl"
      },
      "source": [
        "Kita cek dataset setelah di merge dan tidak ada missing value"
      ]
    },
    {
      "cell_type": "code",
      "metadata": {
        "colab": {
          "base_uri": "https://localhost:8080/"
        },
        "id": "aXcoMFeqIXuc",
        "outputId": "77b60b98-f07c-4ad3-9205-8fee92a62e94"
      },
      "source": [
        "user_movie_rating.info()"
      ],
      "execution_count": null,
      "outputs": [
        {
          "output_type": "stream",
          "name": "stdout",
          "text": [
            "<class 'pandas.core.frame.DataFrame'>\n",
            "Int64Index: 100836 entries, 0 to 100835\n",
            "Data columns (total 5 columns):\n",
            " #   Column   Non-Null Count   Dtype  \n",
            "---  ------   --------------   -----  \n",
            " 0   userId   100836 non-null  int64  \n",
            " 1   movieId  100836 non-null  int64  \n",
            " 2   rating   100836 non-null  float64\n",
            " 3   title    100836 non-null  object \n",
            " 4   genres   100836 non-null  object \n",
            "dtypes: float64(1), int64(2), object(2)\n",
            "memory usage: 4.6+ MB\n"
          ]
        }
      ]
    },
    {
      "cell_type": "code",
      "metadata": {
        "colab": {
          "base_uri": "https://localhost:8080/",
          "height": 424
        },
        "id": "W52bLwQMIbx0",
        "outputId": "09320faf-4994-41c7-ff30-b2d150cd84a7"
      },
      "source": [
        "preparation= user_movie_rating\n",
        "preparation.sort_values('movieId')"
      ],
      "execution_count": null,
      "outputs": [
        {
          "output_type": "execute_result",
          "data": {
            "text/html": [
              "<div>\n",
              "<style scoped>\n",
              "    .dataframe tbody tr th:only-of-type {\n",
              "        vertical-align: middle;\n",
              "    }\n",
              "\n",
              "    .dataframe tbody tr th {\n",
              "        vertical-align: top;\n",
              "    }\n",
              "\n",
              "    .dataframe thead th {\n",
              "        text-align: right;\n",
              "    }\n",
              "</style>\n",
              "<table border=\"1\" class=\"dataframe\">\n",
              "  <thead>\n",
              "    <tr style=\"text-align: right;\">\n",
              "      <th></th>\n",
              "      <th>userId</th>\n",
              "      <th>movieId</th>\n",
              "      <th>rating</th>\n",
              "      <th>title</th>\n",
              "      <th>genres</th>\n",
              "    </tr>\n",
              "  </thead>\n",
              "  <tbody>\n",
              "    <tr>\n",
              "      <th>0</th>\n",
              "      <td>1</td>\n",
              "      <td>1</td>\n",
              "      <td>4.0</td>\n",
              "      <td>Toy Story (1995)</td>\n",
              "      <td>Adventure|Animation|Children|Comedy|Fantasy</td>\n",
              "    </tr>\n",
              "    <tr>\n",
              "      <th>81531</th>\n",
              "      <td>517</td>\n",
              "      <td>1</td>\n",
              "      <td>4.0</td>\n",
              "      <td>Toy Story (1995)</td>\n",
              "      <td>Adventure|Animation|Children|Comedy|Fantasy</td>\n",
              "    </tr>\n",
              "    <tr>\n",
              "      <th>30517</th>\n",
              "      <td>213</td>\n",
              "      <td>1</td>\n",
              "      <td>3.5</td>\n",
              "      <td>Toy Story (1995)</td>\n",
              "      <td>Adventure|Animation|Children|Comedy|Fantasy</td>\n",
              "    </tr>\n",
              "    <tr>\n",
              "      <th>81082</th>\n",
              "      <td>514</td>\n",
              "      <td>1</td>\n",
              "      <td>4.0</td>\n",
              "      <td>Toy Story (1995)</td>\n",
              "      <td>Adventure|Animation|Children|Comedy|Fantasy</td>\n",
              "    </tr>\n",
              "    <tr>\n",
              "      <th>30601</th>\n",
              "      <td>214</td>\n",
              "      <td>1</td>\n",
              "      <td>3.0</td>\n",
              "      <td>Toy Story (1995)</td>\n",
              "      <td>Adventure|Animation|Children|Comedy|Fantasy</td>\n",
              "    </tr>\n",
              "    <tr>\n",
              "      <th>...</th>\n",
              "      <td>...</td>\n",
              "      <td>...</td>\n",
              "      <td>...</td>\n",
              "      <td>...</td>\n",
              "      <td>...</td>\n",
              "    </tr>\n",
              "    <tr>\n",
              "      <th>27256</th>\n",
              "      <td>184</td>\n",
              "      <td>193581</td>\n",
              "      <td>4.0</td>\n",
              "      <td>Black Butler: Book of the Atlantic (2017)</td>\n",
              "      <td>Action|Animation|Comedy|Fantasy</td>\n",
              "    </tr>\n",
              "    <tr>\n",
              "      <th>27257</th>\n",
              "      <td>184</td>\n",
              "      <td>193583</td>\n",
              "      <td>3.5</td>\n",
              "      <td>No Game No Life: Zero (2017)</td>\n",
              "      <td>Animation|Comedy|Fantasy</td>\n",
              "    </tr>\n",
              "    <tr>\n",
              "      <th>27258</th>\n",
              "      <td>184</td>\n",
              "      <td>193585</td>\n",
              "      <td>3.5</td>\n",
              "      <td>Flint (2017)</td>\n",
              "      <td>Drama</td>\n",
              "    </tr>\n",
              "    <tr>\n",
              "      <th>27259</th>\n",
              "      <td>184</td>\n",
              "      <td>193587</td>\n",
              "      <td>3.5</td>\n",
              "      <td>Bungo Stray Dogs: Dead Apple (2018)</td>\n",
              "      <td>Action|Animation</td>\n",
              "    </tr>\n",
              "    <tr>\n",
              "      <th>51362</th>\n",
              "      <td>331</td>\n",
              "      <td>193609</td>\n",
              "      <td>4.0</td>\n",
              "      <td>Andrew Dice Clay: Dice Rules (1991)</td>\n",
              "      <td>Comedy</td>\n",
              "    </tr>\n",
              "  </tbody>\n",
              "</table>\n",
              "<p>100836 rows × 5 columns</p>\n",
              "</div>"
            ],
            "text/plain": [
              "       userId  ...                                       genres\n",
              "0           1  ...  Adventure|Animation|Children|Comedy|Fantasy\n",
              "81531     517  ...  Adventure|Animation|Children|Comedy|Fantasy\n",
              "30517     213  ...  Adventure|Animation|Children|Comedy|Fantasy\n",
              "81082     514  ...  Adventure|Animation|Children|Comedy|Fantasy\n",
              "30601     214  ...  Adventure|Animation|Children|Comedy|Fantasy\n",
              "...       ...  ...                                          ...\n",
              "27256     184  ...              Action|Animation|Comedy|Fantasy\n",
              "27257     184  ...                     Animation|Comedy|Fantasy\n",
              "27258     184  ...                                        Drama\n",
              "27259     184  ...                             Action|Animation\n",
              "51362     331  ...                                       Comedy\n",
              "\n",
              "[100836 rows x 5 columns]"
            ]
          },
          "metadata": {},
          "execution_count": 13
        }
      ]
    },
    {
      "cell_type": "markdown",
      "metadata": {
        "id": "tp7v5fuAaroP"
      },
      "source": [
        "Lalu kita buang data yang duplikat"
      ]
    },
    {
      "cell_type": "code",
      "metadata": {
        "colab": {
          "base_uri": "https://localhost:8080/",
          "height": 424
        },
        "id": "WSryw4hRIdms",
        "outputId": "263d6163-7a43-411c-cc11-2805f3a78818"
      },
      "source": [
        "preparation = preparation.drop_duplicates('movieId')\n",
        "preparation"
      ],
      "execution_count": null,
      "outputs": [
        {
          "output_type": "execute_result",
          "data": {
            "text/html": [
              "<div>\n",
              "<style scoped>\n",
              "    .dataframe tbody tr th:only-of-type {\n",
              "        vertical-align: middle;\n",
              "    }\n",
              "\n",
              "    .dataframe tbody tr th {\n",
              "        vertical-align: top;\n",
              "    }\n",
              "\n",
              "    .dataframe thead th {\n",
              "        text-align: right;\n",
              "    }\n",
              "</style>\n",
              "<table border=\"1\" class=\"dataframe\">\n",
              "  <thead>\n",
              "    <tr style=\"text-align: right;\">\n",
              "      <th></th>\n",
              "      <th>userId</th>\n",
              "      <th>movieId</th>\n",
              "      <th>rating</th>\n",
              "      <th>title</th>\n",
              "      <th>genres</th>\n",
              "    </tr>\n",
              "  </thead>\n",
              "  <tbody>\n",
              "    <tr>\n",
              "      <th>0</th>\n",
              "      <td>1</td>\n",
              "      <td>1</td>\n",
              "      <td>4.0</td>\n",
              "      <td>Toy Story (1995)</td>\n",
              "      <td>Adventure|Animation|Children|Comedy|Fantasy</td>\n",
              "    </tr>\n",
              "    <tr>\n",
              "      <th>1</th>\n",
              "      <td>1</td>\n",
              "      <td>3</td>\n",
              "      <td>4.0</td>\n",
              "      <td>Grumpier Old Men (1995)</td>\n",
              "      <td>Comedy|Romance</td>\n",
              "    </tr>\n",
              "    <tr>\n",
              "      <th>2</th>\n",
              "      <td>1</td>\n",
              "      <td>6</td>\n",
              "      <td>4.0</td>\n",
              "      <td>Heat (1995)</td>\n",
              "      <td>Action|Crime|Thriller</td>\n",
              "    </tr>\n",
              "    <tr>\n",
              "      <th>3</th>\n",
              "      <td>1</td>\n",
              "      <td>47</td>\n",
              "      <td>5.0</td>\n",
              "      <td>Seven (a.k.a. Se7en) (1995)</td>\n",
              "      <td>Mystery|Thriller</td>\n",
              "    </tr>\n",
              "    <tr>\n",
              "      <th>4</th>\n",
              "      <td>1</td>\n",
              "      <td>50</td>\n",
              "      <td>5.0</td>\n",
              "      <td>Usual Suspects, The (1995)</td>\n",
              "      <td>Crime|Mystery|Thriller</td>\n",
              "    </tr>\n",
              "    <tr>\n",
              "      <th>...</th>\n",
              "      <td>...</td>\n",
              "      <td>...</td>\n",
              "      <td>...</td>\n",
              "      <td>...</td>\n",
              "      <td>...</td>\n",
              "    </tr>\n",
              "    <tr>\n",
              "      <th>100820</th>\n",
              "      <td>610</td>\n",
              "      <td>160341</td>\n",
              "      <td>2.5</td>\n",
              "      <td>Bloodmoon (1997)</td>\n",
              "      <td>Action|Thriller</td>\n",
              "    </tr>\n",
              "    <tr>\n",
              "      <th>100821</th>\n",
              "      <td>610</td>\n",
              "      <td>160527</td>\n",
              "      <td>4.5</td>\n",
              "      <td>Sympathy for the Underdog (1971)</td>\n",
              "      <td>Action|Crime|Drama</td>\n",
              "    </tr>\n",
              "    <tr>\n",
              "      <th>100823</th>\n",
              "      <td>610</td>\n",
              "      <td>160836</td>\n",
              "      <td>3.0</td>\n",
              "      <td>Hazard (2005)</td>\n",
              "      <td>Action|Drama|Thriller</td>\n",
              "    </tr>\n",
              "    <tr>\n",
              "      <th>100827</th>\n",
              "      <td>610</td>\n",
              "      <td>163937</td>\n",
              "      <td>3.5</td>\n",
              "      <td>Blair Witch (2016)</td>\n",
              "      <td>Horror|Thriller</td>\n",
              "    </tr>\n",
              "    <tr>\n",
              "      <th>100828</th>\n",
              "      <td>610</td>\n",
              "      <td>163981</td>\n",
              "      <td>3.5</td>\n",
              "      <td>31 (2016)</td>\n",
              "      <td>Horror</td>\n",
              "    </tr>\n",
              "  </tbody>\n",
              "</table>\n",
              "<p>9724 rows × 5 columns</p>\n",
              "</div>"
            ],
            "text/plain": [
              "        userId  ...                                       genres\n",
              "0            1  ...  Adventure|Animation|Children|Comedy|Fantasy\n",
              "1            1  ...                               Comedy|Romance\n",
              "2            1  ...                        Action|Crime|Thriller\n",
              "3            1  ...                             Mystery|Thriller\n",
              "4            1  ...                       Crime|Mystery|Thriller\n",
              "...        ...  ...                                          ...\n",
              "100820     610  ...                              Action|Thriller\n",
              "100821     610  ...                           Action|Crime|Drama\n",
              "100823     610  ...                        Action|Drama|Thriller\n",
              "100827     610  ...                              Horror|Thriller\n",
              "100828     610  ...                                       Horror\n",
              "\n",
              "[9724 rows x 5 columns]"
            ]
          },
          "metadata": {},
          "execution_count": 14
        }
      ]
    },
    {
      "cell_type": "markdown",
      "metadata": {
        "id": "Qm2fpl7xbF79"
      },
      "source": [
        "Setelah itu kita konversi kolom movieId, title, dan genres ke dalam bentuk list"
      ]
    },
    {
      "cell_type": "code",
      "metadata": {
        "colab": {
          "base_uri": "https://localhost:8080/"
        },
        "id": "7PsfmsAUIgDz",
        "outputId": "172369c3-99a8-481b-ba49-b078022db744"
      },
      "source": [
        "movie_id = preparation['movieId'].tolist()\n",
        "movie_name = preparation['title'].tolist()\n",
        "movie_genres = preparation['genres'].tolist()\n",
        "\n",
        "print(len(movie_id))\n",
        "print(len(movie_name))\n",
        "print(len(movie_genres))"
      ],
      "execution_count": null,
      "outputs": [
        {
          "output_type": "stream",
          "name": "stdout",
          "text": [
            "9724\n",
            "9724\n",
            "9724\n"
          ]
        }
      ]
    },
    {
      "cell_type": "markdown",
      "metadata": {
        "id": "GBywE59NbT5j"
      },
      "source": [
        "Lalu kita buat Dictionary untuk data movie_id, movie_name, movie_genres"
      ]
    },
    {
      "cell_type": "code",
      "metadata": {
        "colab": {
          "base_uri": "https://localhost:8080/",
          "height": 424
        },
        "id": "kSIBZ8prIiXl",
        "outputId": "11decd3b-971e-4a83-a57c-9b08516d9cf7"
      },
      "source": [
        "movie_new = pd.DataFrame({\n",
        "    'id': movie_id,\n",
        "    'movie_name': movie_name,\n",
        "    'movie_genres': movie_genres\n",
        "})\n",
        "movie_new"
      ],
      "execution_count": null,
      "outputs": [
        {
          "output_type": "execute_result",
          "data": {
            "text/html": [
              "<div>\n",
              "<style scoped>\n",
              "    .dataframe tbody tr th:only-of-type {\n",
              "        vertical-align: middle;\n",
              "    }\n",
              "\n",
              "    .dataframe tbody tr th {\n",
              "        vertical-align: top;\n",
              "    }\n",
              "\n",
              "    .dataframe thead th {\n",
              "        text-align: right;\n",
              "    }\n",
              "</style>\n",
              "<table border=\"1\" class=\"dataframe\">\n",
              "  <thead>\n",
              "    <tr style=\"text-align: right;\">\n",
              "      <th></th>\n",
              "      <th>id</th>\n",
              "      <th>movie_name</th>\n",
              "      <th>movie_genres</th>\n",
              "    </tr>\n",
              "  </thead>\n",
              "  <tbody>\n",
              "    <tr>\n",
              "      <th>0</th>\n",
              "      <td>1</td>\n",
              "      <td>Toy Story (1995)</td>\n",
              "      <td>Adventure|Animation|Children|Comedy|Fantasy</td>\n",
              "    </tr>\n",
              "    <tr>\n",
              "      <th>1</th>\n",
              "      <td>3</td>\n",
              "      <td>Grumpier Old Men (1995)</td>\n",
              "      <td>Comedy|Romance</td>\n",
              "    </tr>\n",
              "    <tr>\n",
              "      <th>2</th>\n",
              "      <td>6</td>\n",
              "      <td>Heat (1995)</td>\n",
              "      <td>Action|Crime|Thriller</td>\n",
              "    </tr>\n",
              "    <tr>\n",
              "      <th>3</th>\n",
              "      <td>47</td>\n",
              "      <td>Seven (a.k.a. Se7en) (1995)</td>\n",
              "      <td>Mystery|Thriller</td>\n",
              "    </tr>\n",
              "    <tr>\n",
              "      <th>4</th>\n",
              "      <td>50</td>\n",
              "      <td>Usual Suspects, The (1995)</td>\n",
              "      <td>Crime|Mystery|Thriller</td>\n",
              "    </tr>\n",
              "    <tr>\n",
              "      <th>...</th>\n",
              "      <td>...</td>\n",
              "      <td>...</td>\n",
              "      <td>...</td>\n",
              "    </tr>\n",
              "    <tr>\n",
              "      <th>9719</th>\n",
              "      <td>160341</td>\n",
              "      <td>Bloodmoon (1997)</td>\n",
              "      <td>Action|Thriller</td>\n",
              "    </tr>\n",
              "    <tr>\n",
              "      <th>9720</th>\n",
              "      <td>160527</td>\n",
              "      <td>Sympathy for the Underdog (1971)</td>\n",
              "      <td>Action|Crime|Drama</td>\n",
              "    </tr>\n",
              "    <tr>\n",
              "      <th>9721</th>\n",
              "      <td>160836</td>\n",
              "      <td>Hazard (2005)</td>\n",
              "      <td>Action|Drama|Thriller</td>\n",
              "    </tr>\n",
              "    <tr>\n",
              "      <th>9722</th>\n",
              "      <td>163937</td>\n",
              "      <td>Blair Witch (2016)</td>\n",
              "      <td>Horror|Thriller</td>\n",
              "    </tr>\n",
              "    <tr>\n",
              "      <th>9723</th>\n",
              "      <td>163981</td>\n",
              "      <td>31 (2016)</td>\n",
              "      <td>Horror</td>\n",
              "    </tr>\n",
              "  </tbody>\n",
              "</table>\n",
              "<p>9724 rows × 3 columns</p>\n",
              "</div>"
            ],
            "text/plain": [
              "          id  ...                                 movie_genres\n",
              "0          1  ...  Adventure|Animation|Children|Comedy|Fantasy\n",
              "1          3  ...                               Comedy|Romance\n",
              "2          6  ...                        Action|Crime|Thriller\n",
              "3         47  ...                             Mystery|Thriller\n",
              "4         50  ...                       Crime|Mystery|Thriller\n",
              "...      ...  ...                                          ...\n",
              "9719  160341  ...                              Action|Thriller\n",
              "9720  160527  ...                           Action|Crime|Drama\n",
              "9721  160836  ...                        Action|Drama|Thriller\n",
              "9722  163937  ...                              Horror|Thriller\n",
              "9723  163981  ...                                       Horror\n",
              "\n",
              "[9724 rows x 3 columns]"
            ]
          },
          "metadata": {},
          "execution_count": 16
        }
      ]
    },
    {
      "cell_type": "code",
      "metadata": {
        "colab": {
          "base_uri": "https://localhost:8080/",
          "height": 424
        },
        "id": "7JqfL8QIIkLU",
        "outputId": "246a6055-53b2-4ab2-9d48-07d95364f433"
      },
      "source": [
        "df= rating\n",
        "df"
      ],
      "execution_count": null,
      "outputs": [
        {
          "output_type": "execute_result",
          "data": {
            "text/html": [
              "<div>\n",
              "<style scoped>\n",
              "    .dataframe tbody tr th:only-of-type {\n",
              "        vertical-align: middle;\n",
              "    }\n",
              "\n",
              "    .dataframe tbody tr th {\n",
              "        vertical-align: top;\n",
              "    }\n",
              "\n",
              "    .dataframe thead th {\n",
              "        text-align: right;\n",
              "    }\n",
              "</style>\n",
              "<table border=\"1\" class=\"dataframe\">\n",
              "  <thead>\n",
              "    <tr style=\"text-align: right;\">\n",
              "      <th></th>\n",
              "      <th>userId</th>\n",
              "      <th>movieId</th>\n",
              "      <th>rating</th>\n",
              "    </tr>\n",
              "  </thead>\n",
              "  <tbody>\n",
              "    <tr>\n",
              "      <th>0</th>\n",
              "      <td>1</td>\n",
              "      <td>1</td>\n",
              "      <td>4.0</td>\n",
              "    </tr>\n",
              "    <tr>\n",
              "      <th>1</th>\n",
              "      <td>1</td>\n",
              "      <td>3</td>\n",
              "      <td>4.0</td>\n",
              "    </tr>\n",
              "    <tr>\n",
              "      <th>2</th>\n",
              "      <td>1</td>\n",
              "      <td>6</td>\n",
              "      <td>4.0</td>\n",
              "    </tr>\n",
              "    <tr>\n",
              "      <th>3</th>\n",
              "      <td>1</td>\n",
              "      <td>47</td>\n",
              "      <td>5.0</td>\n",
              "    </tr>\n",
              "    <tr>\n",
              "      <th>4</th>\n",
              "      <td>1</td>\n",
              "      <td>50</td>\n",
              "      <td>5.0</td>\n",
              "    </tr>\n",
              "    <tr>\n",
              "      <th>...</th>\n",
              "      <td>...</td>\n",
              "      <td>...</td>\n",
              "      <td>...</td>\n",
              "    </tr>\n",
              "    <tr>\n",
              "      <th>100831</th>\n",
              "      <td>610</td>\n",
              "      <td>166534</td>\n",
              "      <td>4.0</td>\n",
              "    </tr>\n",
              "    <tr>\n",
              "      <th>100832</th>\n",
              "      <td>610</td>\n",
              "      <td>168248</td>\n",
              "      <td>5.0</td>\n",
              "    </tr>\n",
              "    <tr>\n",
              "      <th>100833</th>\n",
              "      <td>610</td>\n",
              "      <td>168250</td>\n",
              "      <td>5.0</td>\n",
              "    </tr>\n",
              "    <tr>\n",
              "      <th>100834</th>\n",
              "      <td>610</td>\n",
              "      <td>168252</td>\n",
              "      <td>5.0</td>\n",
              "    </tr>\n",
              "    <tr>\n",
              "      <th>100835</th>\n",
              "      <td>610</td>\n",
              "      <td>170875</td>\n",
              "      <td>3.0</td>\n",
              "    </tr>\n",
              "  </tbody>\n",
              "</table>\n",
              "<p>100836 rows × 3 columns</p>\n",
              "</div>"
            ],
            "text/plain": [
              "        userId  movieId  rating\n",
              "0            1        1     4.0\n",
              "1            1        3     4.0\n",
              "2            1        6     4.0\n",
              "3            1       47     5.0\n",
              "4            1       50     5.0\n",
              "...        ...      ...     ...\n",
              "100831     610   166534     4.0\n",
              "100832     610   168248     5.0\n",
              "100833     610   168250     5.0\n",
              "100834     610   168252     5.0\n",
              "100835     610   170875     3.0\n",
              "\n",
              "[100836 rows x 3 columns]"
            ]
          },
          "metadata": {},
          "execution_count": 17
        }
      ]
    },
    {
      "cell_type": "markdown",
      "metadata": {
        "id": "uyG01NCndO61"
      },
      "source": [
        "Mengubah userID menjadi list tanpa nilai yang sama, lalu lakukan encoding userId, lalu lakukan proses encoding angka ke userId"
      ]
    },
    {
      "cell_type": "code",
      "metadata": {
        "colab": {
          "base_uri": "https://localhost:8080/"
        },
        "id": "KIndF1a8ImjM",
        "outputId": "6f282a81-f200-4b69-cbe2-4921c0a3093f"
      },
      "source": [
        "user_ids = df['userId'].unique().tolist()\n",
        "print('list userID: ', user_ids)\n",
        "user_to_user_encoded = {x: i for i, x in enumerate(user_ids)}\n",
        "print('encoded userID : ', user_to_user_encoded)\n",
        "user_encoded_to_user = {i: x for i, x in enumerate(user_ids)}\n",
        "print('encoded angka ke userID: ', user_encoded_to_user)"
      ],
      "execution_count": null,
      "outputs": [
        {
          "output_type": "stream",
          "name": "stdout",
          "text": [
            "list userID:  [1, 2, 3, 4, 5, 6, 7, 8, 9, 10, 11, 12, 13, 14, 15, 16, 17, 18, 19, 20, 21, 22, 23, 24, 25, 26, 27, 28, 29, 30, 31, 32, 33, 34, 35, 36, 37, 38, 39, 40, 41, 42, 43, 44, 45, 46, 47, 48, 49, 50, 51, 52, 53, 54, 55, 56, 57, 58, 59, 60, 61, 62, 63, 64, 65, 66, 67, 68, 69, 70, 71, 72, 73, 74, 75, 76, 77, 78, 79, 80, 81, 82, 83, 84, 85, 86, 87, 88, 89, 90, 91, 92, 93, 94, 95, 96, 97, 98, 99, 100, 101, 102, 103, 104, 105, 106, 107, 108, 109, 110, 111, 112, 113, 114, 115, 116, 117, 118, 119, 120, 121, 122, 123, 124, 125, 126, 127, 128, 129, 130, 131, 132, 133, 134, 135, 136, 137, 138, 139, 140, 141, 142, 143, 144, 145, 146, 147, 148, 149, 150, 151, 152, 153, 154, 155, 156, 157, 158, 159, 160, 161, 162, 163, 164, 165, 166, 167, 168, 169, 170, 171, 172, 173, 174, 175, 176, 177, 178, 179, 180, 181, 182, 183, 184, 185, 186, 187, 188, 189, 190, 191, 192, 193, 194, 195, 196, 197, 198, 199, 200, 201, 202, 203, 204, 205, 206, 207, 208, 209, 210, 211, 212, 213, 214, 215, 216, 217, 218, 219, 220, 221, 222, 223, 224, 225, 226, 227, 228, 229, 230, 231, 232, 233, 234, 235, 236, 237, 238, 239, 240, 241, 242, 243, 244, 245, 246, 247, 248, 249, 250, 251, 252, 253, 254, 255, 256, 257, 258, 259, 260, 261, 262, 263, 264, 265, 266, 267, 268, 269, 270, 271, 272, 273, 274, 275, 276, 277, 278, 279, 280, 281, 282, 283, 284, 285, 286, 287, 288, 289, 290, 291, 292, 293, 294, 295, 296, 297, 298, 299, 300, 301, 302, 303, 304, 305, 306, 307, 308, 309, 310, 311, 312, 313, 314, 315, 316, 317, 318, 319, 320, 321, 322, 323, 324, 325, 326, 327, 328, 329, 330, 331, 332, 333, 334, 335, 336, 337, 338, 339, 340, 341, 342, 343, 344, 345, 346, 347, 348, 349, 350, 351, 352, 353, 354, 355, 356, 357, 358, 359, 360, 361, 362, 363, 364, 365, 366, 367, 368, 369, 370, 371, 372, 373, 374, 375, 376, 377, 378, 379, 380, 381, 382, 383, 384, 385, 386, 387, 388, 389, 390, 391, 392, 393, 394, 395, 396, 397, 398, 399, 400, 401, 402, 403, 404, 405, 406, 407, 408, 409, 410, 411, 412, 413, 414, 415, 416, 417, 418, 419, 420, 421, 422, 423, 424, 425, 426, 427, 428, 429, 430, 431, 432, 433, 434, 435, 436, 437, 438, 439, 440, 441, 442, 443, 444, 445, 446, 447, 448, 449, 450, 451, 452, 453, 454, 455, 456, 457, 458, 459, 460, 461, 462, 463, 464, 465, 466, 467, 468, 469, 470, 471, 472, 473, 474, 475, 476, 477, 478, 479, 480, 481, 482, 483, 484, 485, 486, 487, 488, 489, 490, 491, 492, 493, 494, 495, 496, 497, 498, 499, 500, 501, 502, 503, 504, 505, 506, 507, 508, 509, 510, 511, 512, 513, 514, 515, 516, 517, 518, 519, 520, 521, 522, 523, 524, 525, 526, 527, 528, 529, 530, 531, 532, 533, 534, 535, 536, 537, 538, 539, 540, 541, 542, 543, 544, 545, 546, 547, 548, 549, 550, 551, 552, 553, 554, 555, 556, 557, 558, 559, 560, 561, 562, 563, 564, 565, 566, 567, 568, 569, 570, 571, 572, 573, 574, 575, 576, 577, 578, 579, 580, 581, 582, 583, 584, 585, 586, 587, 588, 589, 590, 591, 592, 593, 594, 595, 596, 597, 598, 599, 600, 601, 602, 603, 604, 605, 606, 607, 608, 609, 610]\n",
            "encoded userID :  {1: 0, 2: 1, 3: 2, 4: 3, 5: 4, 6: 5, 7: 6, 8: 7, 9: 8, 10: 9, 11: 10, 12: 11, 13: 12, 14: 13, 15: 14, 16: 15, 17: 16, 18: 17, 19: 18, 20: 19, 21: 20, 22: 21, 23: 22, 24: 23, 25: 24, 26: 25, 27: 26, 28: 27, 29: 28, 30: 29, 31: 30, 32: 31, 33: 32, 34: 33, 35: 34, 36: 35, 37: 36, 38: 37, 39: 38, 40: 39, 41: 40, 42: 41, 43: 42, 44: 43, 45: 44, 46: 45, 47: 46, 48: 47, 49: 48, 50: 49, 51: 50, 52: 51, 53: 52, 54: 53, 55: 54, 56: 55, 57: 56, 58: 57, 59: 58, 60: 59, 61: 60, 62: 61, 63: 62, 64: 63, 65: 64, 66: 65, 67: 66, 68: 67, 69: 68, 70: 69, 71: 70, 72: 71, 73: 72, 74: 73, 75: 74, 76: 75, 77: 76, 78: 77, 79: 78, 80: 79, 81: 80, 82: 81, 83: 82, 84: 83, 85: 84, 86: 85, 87: 86, 88: 87, 89: 88, 90: 89, 91: 90, 92: 91, 93: 92, 94: 93, 95: 94, 96: 95, 97: 96, 98: 97, 99: 98, 100: 99, 101: 100, 102: 101, 103: 102, 104: 103, 105: 104, 106: 105, 107: 106, 108: 107, 109: 108, 110: 109, 111: 110, 112: 111, 113: 112, 114: 113, 115: 114, 116: 115, 117: 116, 118: 117, 119: 118, 120: 119, 121: 120, 122: 121, 123: 122, 124: 123, 125: 124, 126: 125, 127: 126, 128: 127, 129: 128, 130: 129, 131: 130, 132: 131, 133: 132, 134: 133, 135: 134, 136: 135, 137: 136, 138: 137, 139: 138, 140: 139, 141: 140, 142: 141, 143: 142, 144: 143, 145: 144, 146: 145, 147: 146, 148: 147, 149: 148, 150: 149, 151: 150, 152: 151, 153: 152, 154: 153, 155: 154, 156: 155, 157: 156, 158: 157, 159: 158, 160: 159, 161: 160, 162: 161, 163: 162, 164: 163, 165: 164, 166: 165, 167: 166, 168: 167, 169: 168, 170: 169, 171: 170, 172: 171, 173: 172, 174: 173, 175: 174, 176: 175, 177: 176, 178: 177, 179: 178, 180: 179, 181: 180, 182: 181, 183: 182, 184: 183, 185: 184, 186: 185, 187: 186, 188: 187, 189: 188, 190: 189, 191: 190, 192: 191, 193: 192, 194: 193, 195: 194, 196: 195, 197: 196, 198: 197, 199: 198, 200: 199, 201: 200, 202: 201, 203: 202, 204: 203, 205: 204, 206: 205, 207: 206, 208: 207, 209: 208, 210: 209, 211: 210, 212: 211, 213: 212, 214: 213, 215: 214, 216: 215, 217: 216, 218: 217, 219: 218, 220: 219, 221: 220, 222: 221, 223: 222, 224: 223, 225: 224, 226: 225, 227: 226, 228: 227, 229: 228, 230: 229, 231: 230, 232: 231, 233: 232, 234: 233, 235: 234, 236: 235, 237: 236, 238: 237, 239: 238, 240: 239, 241: 240, 242: 241, 243: 242, 244: 243, 245: 244, 246: 245, 247: 246, 248: 247, 249: 248, 250: 249, 251: 250, 252: 251, 253: 252, 254: 253, 255: 254, 256: 255, 257: 256, 258: 257, 259: 258, 260: 259, 261: 260, 262: 261, 263: 262, 264: 263, 265: 264, 266: 265, 267: 266, 268: 267, 269: 268, 270: 269, 271: 270, 272: 271, 273: 272, 274: 273, 275: 274, 276: 275, 277: 276, 278: 277, 279: 278, 280: 279, 281: 280, 282: 281, 283: 282, 284: 283, 285: 284, 286: 285, 287: 286, 288: 287, 289: 288, 290: 289, 291: 290, 292: 291, 293: 292, 294: 293, 295: 294, 296: 295, 297: 296, 298: 297, 299: 298, 300: 299, 301: 300, 302: 301, 303: 302, 304: 303, 305: 304, 306: 305, 307: 306, 308: 307, 309: 308, 310: 309, 311: 310, 312: 311, 313: 312, 314: 313, 315: 314, 316: 315, 317: 316, 318: 317, 319: 318, 320: 319, 321: 320, 322: 321, 323: 322, 324: 323, 325: 324, 326: 325, 327: 326, 328: 327, 329: 328, 330: 329, 331: 330, 332: 331, 333: 332, 334: 333, 335: 334, 336: 335, 337: 336, 338: 337, 339: 338, 340: 339, 341: 340, 342: 341, 343: 342, 344: 343, 345: 344, 346: 345, 347: 346, 348: 347, 349: 348, 350: 349, 351: 350, 352: 351, 353: 352, 354: 353, 355: 354, 356: 355, 357: 356, 358: 357, 359: 358, 360: 359, 361: 360, 362: 361, 363: 362, 364: 363, 365: 364, 366: 365, 367: 366, 368: 367, 369: 368, 370: 369, 371: 370, 372: 371, 373: 372, 374: 373, 375: 374, 376: 375, 377: 376, 378: 377, 379: 378, 380: 379, 381: 380, 382: 381, 383: 382, 384: 383, 385: 384, 386: 385, 387: 386, 388: 387, 389: 388, 390: 389, 391: 390, 392: 391, 393: 392, 394: 393, 395: 394, 396: 395, 397: 396, 398: 397, 399: 398, 400: 399, 401: 400, 402: 401, 403: 402, 404: 403, 405: 404, 406: 405, 407: 406, 408: 407, 409: 408, 410: 409, 411: 410, 412: 411, 413: 412, 414: 413, 415: 414, 416: 415, 417: 416, 418: 417, 419: 418, 420: 419, 421: 420, 422: 421, 423: 422, 424: 423, 425: 424, 426: 425, 427: 426, 428: 427, 429: 428, 430: 429, 431: 430, 432: 431, 433: 432, 434: 433, 435: 434, 436: 435, 437: 436, 438: 437, 439: 438, 440: 439, 441: 440, 442: 441, 443: 442, 444: 443, 445: 444, 446: 445, 447: 446, 448: 447, 449: 448, 450: 449, 451: 450, 452: 451, 453: 452, 454: 453, 455: 454, 456: 455, 457: 456, 458: 457, 459: 458, 460: 459, 461: 460, 462: 461, 463: 462, 464: 463, 465: 464, 466: 465, 467: 466, 468: 467, 469: 468, 470: 469, 471: 470, 472: 471, 473: 472, 474: 473, 475: 474, 476: 475, 477: 476, 478: 477, 479: 478, 480: 479, 481: 480, 482: 481, 483: 482, 484: 483, 485: 484, 486: 485, 487: 486, 488: 487, 489: 488, 490: 489, 491: 490, 492: 491, 493: 492, 494: 493, 495: 494, 496: 495, 497: 496, 498: 497, 499: 498, 500: 499, 501: 500, 502: 501, 503: 502, 504: 503, 505: 504, 506: 505, 507: 506, 508: 507, 509: 508, 510: 509, 511: 510, 512: 511, 513: 512, 514: 513, 515: 514, 516: 515, 517: 516, 518: 517, 519: 518, 520: 519, 521: 520, 522: 521, 523: 522, 524: 523, 525: 524, 526: 525, 527: 526, 528: 527, 529: 528, 530: 529, 531: 530, 532: 531, 533: 532, 534: 533, 535: 534, 536: 535, 537: 536, 538: 537, 539: 538, 540: 539, 541: 540, 542: 541, 543: 542, 544: 543, 545: 544, 546: 545, 547: 546, 548: 547, 549: 548, 550: 549, 551: 550, 552: 551, 553: 552, 554: 553, 555: 554, 556: 555, 557: 556, 558: 557, 559: 558, 560: 559, 561: 560, 562: 561, 563: 562, 564: 563, 565: 564, 566: 565, 567: 566, 568: 567, 569: 568, 570: 569, 571: 570, 572: 571, 573: 572, 574: 573, 575: 574, 576: 575, 577: 576, 578: 577, 579: 578, 580: 579, 581: 580, 582: 581, 583: 582, 584: 583, 585: 584, 586: 585, 587: 586, 588: 587, 589: 588, 590: 589, 591: 590, 592: 591, 593: 592, 594: 593, 595: 594, 596: 595, 597: 596, 598: 597, 599: 598, 600: 599, 601: 600, 602: 601, 603: 602, 604: 603, 605: 604, 606: 605, 607: 606, 608: 607, 609: 608, 610: 609}\n",
            "encoded angka ke userID:  {0: 1, 1: 2, 2: 3, 3: 4, 4: 5, 5: 6, 6: 7, 7: 8, 8: 9, 9: 10, 10: 11, 11: 12, 12: 13, 13: 14, 14: 15, 15: 16, 16: 17, 17: 18, 18: 19, 19: 20, 20: 21, 21: 22, 22: 23, 23: 24, 24: 25, 25: 26, 26: 27, 27: 28, 28: 29, 29: 30, 30: 31, 31: 32, 32: 33, 33: 34, 34: 35, 35: 36, 36: 37, 37: 38, 38: 39, 39: 40, 40: 41, 41: 42, 42: 43, 43: 44, 44: 45, 45: 46, 46: 47, 47: 48, 48: 49, 49: 50, 50: 51, 51: 52, 52: 53, 53: 54, 54: 55, 55: 56, 56: 57, 57: 58, 58: 59, 59: 60, 60: 61, 61: 62, 62: 63, 63: 64, 64: 65, 65: 66, 66: 67, 67: 68, 68: 69, 69: 70, 70: 71, 71: 72, 72: 73, 73: 74, 74: 75, 75: 76, 76: 77, 77: 78, 78: 79, 79: 80, 80: 81, 81: 82, 82: 83, 83: 84, 84: 85, 85: 86, 86: 87, 87: 88, 88: 89, 89: 90, 90: 91, 91: 92, 92: 93, 93: 94, 94: 95, 95: 96, 96: 97, 97: 98, 98: 99, 99: 100, 100: 101, 101: 102, 102: 103, 103: 104, 104: 105, 105: 106, 106: 107, 107: 108, 108: 109, 109: 110, 110: 111, 111: 112, 112: 113, 113: 114, 114: 115, 115: 116, 116: 117, 117: 118, 118: 119, 119: 120, 120: 121, 121: 122, 122: 123, 123: 124, 124: 125, 125: 126, 126: 127, 127: 128, 128: 129, 129: 130, 130: 131, 131: 132, 132: 133, 133: 134, 134: 135, 135: 136, 136: 137, 137: 138, 138: 139, 139: 140, 140: 141, 141: 142, 142: 143, 143: 144, 144: 145, 145: 146, 146: 147, 147: 148, 148: 149, 149: 150, 150: 151, 151: 152, 152: 153, 153: 154, 154: 155, 155: 156, 156: 157, 157: 158, 158: 159, 159: 160, 160: 161, 161: 162, 162: 163, 163: 164, 164: 165, 165: 166, 166: 167, 167: 168, 168: 169, 169: 170, 170: 171, 171: 172, 172: 173, 173: 174, 174: 175, 175: 176, 176: 177, 177: 178, 178: 179, 179: 180, 180: 181, 181: 182, 182: 183, 183: 184, 184: 185, 185: 186, 186: 187, 187: 188, 188: 189, 189: 190, 190: 191, 191: 192, 192: 193, 193: 194, 194: 195, 195: 196, 196: 197, 197: 198, 198: 199, 199: 200, 200: 201, 201: 202, 202: 203, 203: 204, 204: 205, 205: 206, 206: 207, 207: 208, 208: 209, 209: 210, 210: 211, 211: 212, 212: 213, 213: 214, 214: 215, 215: 216, 216: 217, 217: 218, 218: 219, 219: 220, 220: 221, 221: 222, 222: 223, 223: 224, 224: 225, 225: 226, 226: 227, 227: 228, 228: 229, 229: 230, 230: 231, 231: 232, 232: 233, 233: 234, 234: 235, 235: 236, 236: 237, 237: 238, 238: 239, 239: 240, 240: 241, 241: 242, 242: 243, 243: 244, 244: 245, 245: 246, 246: 247, 247: 248, 248: 249, 249: 250, 250: 251, 251: 252, 252: 253, 253: 254, 254: 255, 255: 256, 256: 257, 257: 258, 258: 259, 259: 260, 260: 261, 261: 262, 262: 263, 263: 264, 264: 265, 265: 266, 266: 267, 267: 268, 268: 269, 269: 270, 270: 271, 271: 272, 272: 273, 273: 274, 274: 275, 275: 276, 276: 277, 277: 278, 278: 279, 279: 280, 280: 281, 281: 282, 282: 283, 283: 284, 284: 285, 285: 286, 286: 287, 287: 288, 288: 289, 289: 290, 290: 291, 291: 292, 292: 293, 293: 294, 294: 295, 295: 296, 296: 297, 297: 298, 298: 299, 299: 300, 300: 301, 301: 302, 302: 303, 303: 304, 304: 305, 305: 306, 306: 307, 307: 308, 308: 309, 309: 310, 310: 311, 311: 312, 312: 313, 313: 314, 314: 315, 315: 316, 316: 317, 317: 318, 318: 319, 319: 320, 320: 321, 321: 322, 322: 323, 323: 324, 324: 325, 325: 326, 326: 327, 327: 328, 328: 329, 329: 330, 330: 331, 331: 332, 332: 333, 333: 334, 334: 335, 335: 336, 336: 337, 337: 338, 338: 339, 339: 340, 340: 341, 341: 342, 342: 343, 343: 344, 344: 345, 345: 346, 346: 347, 347: 348, 348: 349, 349: 350, 350: 351, 351: 352, 352: 353, 353: 354, 354: 355, 355: 356, 356: 357, 357: 358, 358: 359, 359: 360, 360: 361, 361: 362, 362: 363, 363: 364, 364: 365, 365: 366, 366: 367, 367: 368, 368: 369, 369: 370, 370: 371, 371: 372, 372: 373, 373: 374, 374: 375, 375: 376, 376: 377, 377: 378, 378: 379, 379: 380, 380: 381, 381: 382, 382: 383, 383: 384, 384: 385, 385: 386, 386: 387, 387: 388, 388: 389, 389: 390, 390: 391, 391: 392, 392: 393, 393: 394, 394: 395, 395: 396, 396: 397, 397: 398, 398: 399, 399: 400, 400: 401, 401: 402, 402: 403, 403: 404, 404: 405, 405: 406, 406: 407, 407: 408, 408: 409, 409: 410, 410: 411, 411: 412, 412: 413, 413: 414, 414: 415, 415: 416, 416: 417, 417: 418, 418: 419, 419: 420, 420: 421, 421: 422, 422: 423, 423: 424, 424: 425, 425: 426, 426: 427, 427: 428, 428: 429, 429: 430, 430: 431, 431: 432, 432: 433, 433: 434, 434: 435, 435: 436, 436: 437, 437: 438, 438: 439, 439: 440, 440: 441, 441: 442, 442: 443, 443: 444, 444: 445, 445: 446, 446: 447, 447: 448, 448: 449, 449: 450, 450: 451, 451: 452, 452: 453, 453: 454, 454: 455, 455: 456, 456: 457, 457: 458, 458: 459, 459: 460, 460: 461, 461: 462, 462: 463, 463: 464, 464: 465, 465: 466, 466: 467, 467: 468, 468: 469, 469: 470, 470: 471, 471: 472, 472: 473, 473: 474, 474: 475, 475: 476, 476: 477, 477: 478, 478: 479, 479: 480, 480: 481, 481: 482, 482: 483, 483: 484, 484: 485, 485: 486, 486: 487, 487: 488, 488: 489, 489: 490, 490: 491, 491: 492, 492: 493, 493: 494, 494: 495, 495: 496, 496: 497, 497: 498, 498: 499, 499: 500, 500: 501, 501: 502, 502: 503, 503: 504, 504: 505, 505: 506, 506: 507, 507: 508, 508: 509, 509: 510, 510: 511, 511: 512, 512: 513, 513: 514, 514: 515, 515: 516, 516: 517, 517: 518, 518: 519, 519: 520, 520: 521, 521: 522, 522: 523, 523: 524, 524: 525, 525: 526, 526: 527, 527: 528, 528: 529, 529: 530, 530: 531, 531: 532, 532: 533, 533: 534, 534: 535, 535: 536, 536: 537, 537: 538, 538: 539, 539: 540, 540: 541, 541: 542, 542: 543, 543: 544, 544: 545, 545: 546, 546: 547, 547: 548, 548: 549, 549: 550, 550: 551, 551: 552, 552: 553, 553: 554, 554: 555, 555: 556, 556: 557, 557: 558, 558: 559, 559: 560, 560: 561, 561: 562, 562: 563, 563: 564, 564: 565, 565: 566, 566: 567, 567: 568, 568: 569, 569: 570, 570: 571, 571: 572, 572: 573, 573: 574, 574: 575, 575: 576, 576: 577, 577: 578, 578: 579, 579: 580, 580: 581, 581: 582, 582: 583, 583: 584, 584: 585, 585: 586, 586: 587, 587: 588, 588: 589, 589: 590, 590: 591, 591: 592, 592: 593, 593: 594, 594: 595, 595: 596, 596: 597, 597: 598, 598: 599, 599: 600, 600: 601, 601: 602, 602: 603, 603: 604, 604: 605, 605: 606, 606: 607, 607: 608, 608: 609, 609: 610}\n"
          ]
        }
      ]
    },
    {
      "cell_type": "markdown",
      "metadata": {
        "id": "ZZlf7SRYdnRT"
      },
      "source": []
    },
    {
      "cell_type": "markdown",
      "metadata": {
        "id": "Xn3ADrL-d3OD"
      },
      "source": [
        "Hal yang sama seperti diatas juga kita lalukan pada movieId, yaitu mengubah movieId menjadi list, lau lakukan proses encoding movieId dan lakukan proses encoding angka ke movieId."
      ]
    },
    {
      "cell_type": "code",
      "metadata": {
        "id": "JruKNHQAIo7l"
      },
      "source": [
        "movie_ids = df['movieId'].unique().tolist()\n",
        "movie_to_movie_encoded = {x: i for i, x in enumerate(movie_ids)}\n",
        "movie_encoded_to_movie = {i: x for i, x in enumerate(movie_ids)}"
      ],
      "execution_count": null,
      "outputs": []
    },
    {
      "cell_type": "code",
      "metadata": {
        "id": "OkM6VV0hIrcU"
      },
      "source": [
        "df['user'] = df['userId'].map(user_to_user_encoded)\n",
        "df['movie'] = df['movieId'].map(movie_to_movie_encoded)"
      ],
      "execution_count": null,
      "outputs": []
    },
    {
      "cell_type": "markdown",
      "metadata": {
        "id": "N4MtX9luevTA"
      },
      "source": [
        "Setelah itu kita cek jumlah user, jumlah movie dan ubah nilai rating menjadi float."
      ]
    },
    {
      "cell_type": "code",
      "metadata": {
        "colab": {
          "base_uri": "https://localhost:8080/"
        },
        "id": "MRWMAhhvItls",
        "outputId": "97023b5f-a0a5-42f5-9f42-3b021d2c6022"
      },
      "source": [
        "num_users = len(user_to_user_encoded)\n",
        "print(num_users)\n",
        "num_movie = len(movie_encoded_to_movie)\n",
        "print(num_movie)\n",
        "df['rating'] = df['rating'].values.astype(np.float32)\n",
        "min_rating = min(df['rating'])\n",
        "max_rating = max(df['rating'])\n",
        "print('Number of User: {}, Number of movie: {}, Min Rating: {}, Max Rating: {}'.format(\n",
        "    num_users, num_movie, min_rating, max_rating))"
      ],
      "execution_count": null,
      "outputs": [
        {
          "output_type": "stream",
          "name": "stdout",
          "text": [
            "610\n",
            "9724\n",
            "Number of User: 610, Number of movie: 9724, Min Rating: 0.5, Max Rating: 5.0\n"
          ]
        }
      ]
    },
    {
      "cell_type": "markdown",
      "metadata": {
        "id": "IEP8X29NfSmV"
      },
      "source": [
        "Setelah itu kita acak data terlebih dahulu  agar distribusinya menjadi random"
      ]
    },
    {
      "cell_type": "code",
      "metadata": {
        "colab": {
          "base_uri": "https://localhost:8080/",
          "height": 424
        },
        "id": "hbZI1LT_Ivsk",
        "outputId": "093bb3a0-1372-428f-c990-951016945c93"
      },
      "source": [
        "df = df.sample(frac=1, random_state=42)\n",
        "df"
      ],
      "execution_count": null,
      "outputs": [
        {
          "output_type": "execute_result",
          "data": {
            "text/html": [
              "<div>\n",
              "<style scoped>\n",
              "    .dataframe tbody tr th:only-of-type {\n",
              "        vertical-align: middle;\n",
              "    }\n",
              "\n",
              "    .dataframe tbody tr th {\n",
              "        vertical-align: top;\n",
              "    }\n",
              "\n",
              "    .dataframe thead th {\n",
              "        text-align: right;\n",
              "    }\n",
              "</style>\n",
              "<table border=\"1\" class=\"dataframe\">\n",
              "  <thead>\n",
              "    <tr style=\"text-align: right;\">\n",
              "      <th></th>\n",
              "      <th>userId</th>\n",
              "      <th>movieId</th>\n",
              "      <th>rating</th>\n",
              "      <th>user</th>\n",
              "      <th>movie</th>\n",
              "    </tr>\n",
              "  </thead>\n",
              "  <tbody>\n",
              "    <tr>\n",
              "      <th>67037</th>\n",
              "      <td>432</td>\n",
              "      <td>77866</td>\n",
              "      <td>4.5</td>\n",
              "      <td>431</td>\n",
              "      <td>4730</td>\n",
              "    </tr>\n",
              "    <tr>\n",
              "      <th>42175</th>\n",
              "      <td>288</td>\n",
              "      <td>474</td>\n",
              "      <td>3.0</td>\n",
              "      <td>287</td>\n",
              "      <td>474</td>\n",
              "    </tr>\n",
              "    <tr>\n",
              "      <th>93850</th>\n",
              "      <td>599</td>\n",
              "      <td>4351</td>\n",
              "      <td>3.0</td>\n",
              "      <td>598</td>\n",
              "      <td>2631</td>\n",
              "    </tr>\n",
              "    <tr>\n",
              "      <th>6187</th>\n",
              "      <td>42</td>\n",
              "      <td>2987</td>\n",
              "      <td>4.0</td>\n",
              "      <td>41</td>\n",
              "      <td>194</td>\n",
              "    </tr>\n",
              "    <tr>\n",
              "      <th>12229</th>\n",
              "      <td>75</td>\n",
              "      <td>1610</td>\n",
              "      <td>4.0</td>\n",
              "      <td>74</td>\n",
              "      <td>727</td>\n",
              "    </tr>\n",
              "    <tr>\n",
              "      <th>...</th>\n",
              "      <td>...</td>\n",
              "      <td>...</td>\n",
              "      <td>...</td>\n",
              "      <td>...</td>\n",
              "      <td>...</td>\n",
              "    </tr>\n",
              "    <tr>\n",
              "      <th>6265</th>\n",
              "      <td>42</td>\n",
              "      <td>4005</td>\n",
              "      <td>4.0</td>\n",
              "      <td>41</td>\n",
              "      <td>1873</td>\n",
              "    </tr>\n",
              "    <tr>\n",
              "      <th>54886</th>\n",
              "      <td>364</td>\n",
              "      <td>141</td>\n",
              "      <td>4.0</td>\n",
              "      <td>363</td>\n",
              "      <td>524</td>\n",
              "    </tr>\n",
              "    <tr>\n",
              "      <th>76820</th>\n",
              "      <td>480</td>\n",
              "      <td>6867</td>\n",
              "      <td>4.0</td>\n",
              "      <td>479</td>\n",
              "      <td>2240</td>\n",
              "    </tr>\n",
              "    <tr>\n",
              "      <th>860</th>\n",
              "      <td>6</td>\n",
              "      <td>981</td>\n",
              "      <td>3.0</td>\n",
              "      <td>5</td>\n",
              "      <td>712</td>\n",
              "    </tr>\n",
              "    <tr>\n",
              "      <th>15795</th>\n",
              "      <td>103</td>\n",
              "      <td>6711</td>\n",
              "      <td>5.0</td>\n",
              "      <td>102</td>\n",
              "      <td>2046</td>\n",
              "    </tr>\n",
              "  </tbody>\n",
              "</table>\n",
              "<p>100836 rows × 5 columns</p>\n",
              "</div>"
            ],
            "text/plain": [
              "       userId  movieId  rating  user  movie\n",
              "67037     432    77866     4.5   431   4730\n",
              "42175     288      474     3.0   287    474\n",
              "93850     599     4351     3.0   598   2631\n",
              "6187       42     2987     4.0    41    194\n",
              "12229      75     1610     4.0    74    727\n",
              "...       ...      ...     ...   ...    ...\n",
              "6265       42     4005     4.0    41   1873\n",
              "54886     364      141     4.0   363    524\n",
              "76820     480     6867     4.0   479   2240\n",
              "860         6      981     3.0     5    712\n",
              "15795     103     6711     5.0   102   2046\n",
              "\n",
              "[100836 rows x 5 columns]"
            ]
          },
          "metadata": {},
          "execution_count": 22
        }
      ]
    },
    {
      "cell_type": "markdown",
      "metadata": {
        "id": "OvbatRb2gCUs"
      },
      "source": [
        "Selanjutnya kita bagi data menjadi training 80% dan validaation 20%"
      ]
    },
    {
      "cell_type": "code",
      "metadata": {
        "colab": {
          "base_uri": "https://localhost:8080/"
        },
        "id": "ddR6ThBLIxjc",
        "outputId": "157d0621-89bb-48ee-e90d-3fece6b91f09"
      },
      "source": [
        "x = df[['user', 'movie']].values\n",
        "y = df['rating'].apply(lambda x: (x - min_rating) / (max_rating - min_rating)).values\n",
        "\n",
        "train_indices = int(0.8 * df.shape[0])\n",
        "x_train, x_val, y_train, y_val = (\n",
        "    x[:train_indices],\n",
        "    x[train_indices:],\n",
        "    y[:train_indices],\n",
        "    y[train_indices:]\n",
        ")\n",
        "\n",
        "print(x, y)"
      ],
      "execution_count": null,
      "outputs": [
        {
          "output_type": "stream",
          "name": "stdout",
          "text": [
            "[[ 431 4730]\n",
            " [ 287  474]\n",
            " [ 598 2631]\n",
            " ...\n",
            " [ 479 2240]\n",
            " [   5  712]\n",
            " [ 102 2046]] [0.88888889 0.55555556 0.55555556 ... 0.77777778 0.55555556 1.        ]\n"
          ]
        }
      ]
    },
    {
      "cell_type": "markdown",
      "metadata": {
        "id": "vLXk0Kf2hDr0"
      },
      "source": [
        "Selanjutnya kita buat class baru, disini kita melakukan proses embedding terhadap data user dan movie. Selanjutnya, lakukan operasi perkalian dot product antara embedding user dan movie. Selain itu, kita juga dapat menambahkan bias untuk setiap user dan movie. Skor kecocokan ditetapkan dalam skala [0,1] dengan fungsi aktivasi sigmoid."
      ]
    },
    {
      "cell_type": "code",
      "metadata": {
        "id": "vJ8gE--sI1s0"
      },
      "source": [
        "class RecommenderNet(tf.keras.Model):\n",
        "  def __init__(self, num_users, num_movie, embedding_size, **kwargs):\n",
        "    super(RecommenderNet, self).__init__(**kwargs)\n",
        "    self.num_users = num_users\n",
        "    self.num_movie = num_movie\n",
        "    self.embedding_size = embedding_size\n",
        "    self.user_embedding = layers.Embedding(\n",
        "        num_users,\n",
        "        embedding_size,\n",
        "        embeddings_initializer = 'he_normal',\n",
        "        embeddings_regularizer = keras.regularizers.l2(1e-6)\n",
        "    )\n",
        "    self.user_bias = layers.Embedding(num_users, 1)\n",
        "    self.movie_embedding = layers.Embedding(\n",
        "        num_movie,\n",
        "        embedding_size,\n",
        "        embeddings_initializer = 'he_normal',\n",
        "        embeddings_regularizer = keras.regularizers.l2(1e-6)\n",
        "    )\n",
        "    self.movie_bias = layers.Embedding(num_movie, 1)\n",
        "\n",
        "  def call(self, inputs):\n",
        "    user_vector = self.user_embedding(inputs[:,0])\n",
        "    user_bias = self.user_bias(inputs[:, 0])\n",
        "    movie_vector = self.movie_embedding(inputs[:, 1])\n",
        "    movie_bias = self.movie_bias(inputs[:, 1])\n",
        "\n",
        "    dot_user_movie = tf.tensordot(user_vector, movie_vector, 2)\n",
        "\n",
        "    x = dot_user_movie + user_bias + movie_bias\n",
        "\n",
        "    return tf.nn.sigmoid(x)"
      ],
      "execution_count": null,
      "outputs": []
    },
    {
      "cell_type": "markdown",
      "metadata": {
        "id": "zj-z5QZ2hZC3"
      },
      "source": [
        "Lalu kita compile model yang telah dibuat dengan metrics Root Mean Squared Error(RMSE)"
      ]
    },
    {
      "cell_type": "code",
      "metadata": {
        "id": "JzNgW6JpI65M"
      },
      "source": [
        "model = RecommenderNet(num_users, num_movie, 50)\n",
        "\n",
        "model.compile(\n",
        "    loss = tf.keras.losses.BinaryCrossentropy(),\n",
        "    optimizer = keras.optimizers.Adam(learning_rate=0.001),\n",
        "    metrics=[tf.keras.metrics.RootMeanSquaredError()]\n",
        ")"
      ],
      "execution_count": null,
      "outputs": []
    },
    {
      "cell_type": "markdown",
      "metadata": {
        "id": "eJDmQaqChmmL"
      },
      "source": [
        "Selanjutanya proses training model"
      ]
    },
    {
      "cell_type": "code",
      "metadata": {
        "colab": {
          "base_uri": "https://localhost:8080/"
        },
        "id": "_Ra64TYkI9qN",
        "outputId": "2da98be9-c808-4772-8b04-0950237bd488"
      },
      "source": [
        "\n",
        "history = model.fit(\n",
        "    x = x_train,\n",
        "    y = y_train,\n",
        "    batch_size = 8,\n",
        "    epochs = 20,\n",
        "    validation_data = (x_val, y_val)\n",
        ")"
      ],
      "execution_count": null,
      "outputs": [
        {
          "output_type": "stream",
          "name": "stdout",
          "text": [
            "Epoch 1/20\n",
            "10084/10084 [==============================] - 63s 6ms/step - loss: 0.6265 - root_mean_squared_error: 0.2221 - val_loss: 0.6131 - val_root_mean_squared_error: 0.2065\n",
            "Epoch 2/20\n",
            "10084/10084 [==============================] - 60s 6ms/step - loss: 0.6046 - root_mean_squared_error: 0.1982 - val_loss: 0.6091 - val_root_mean_squared_error: 0.2019\n",
            "Epoch 3/20\n",
            "10084/10084 [==============================] - 60s 6ms/step - loss: 0.6000 - root_mean_squared_error: 0.1928 - val_loss: 0.6084 - val_root_mean_squared_error: 0.2010\n",
            "Epoch 4/20\n",
            "10084/10084 [==============================] - 60s 6ms/step - loss: 0.5975 - root_mean_squared_error: 0.1898 - val_loss: 0.6071 - val_root_mean_squared_error: 0.1995\n",
            "Epoch 5/20\n",
            "10084/10084 [==============================] - 59s 6ms/step - loss: 0.5958 - root_mean_squared_error: 0.1878 - val_loss: 0.6067 - val_root_mean_squared_error: 0.1988\n",
            "Epoch 6/20\n",
            "10084/10084 [==============================] - 60s 6ms/step - loss: 0.5944 - root_mean_squared_error: 0.1861 - val_loss: 0.6063 - val_root_mean_squared_error: 0.1982\n",
            "Epoch 7/20\n",
            "10084/10084 [==============================] - 60s 6ms/step - loss: 0.5936 - root_mean_squared_error: 0.1851 - val_loss: 0.6063 - val_root_mean_squared_error: 0.1981\n",
            "Epoch 8/20\n",
            "10084/10084 [==============================] - 60s 6ms/step - loss: 0.5927 - root_mean_squared_error: 0.1839 - val_loss: 0.6065 - val_root_mean_squared_error: 0.1983\n",
            "Epoch 9/20\n",
            "10084/10084 [==============================] - 61s 6ms/step - loss: 0.5919 - root_mean_squared_error: 0.1830 - val_loss: 0.6064 - val_root_mean_squared_error: 0.1981\n",
            "Epoch 10/20\n",
            "10084/10084 [==============================] - 60s 6ms/step - loss: 0.5912 - root_mean_squared_error: 0.1821 - val_loss: 0.6065 - val_root_mean_squared_error: 0.1981\n",
            "Epoch 11/20\n",
            "10084/10084 [==============================] - 59s 6ms/step - loss: 0.5908 - root_mean_squared_error: 0.1817 - val_loss: 0.6069 - val_root_mean_squared_error: 0.1985\n",
            "Epoch 12/20\n",
            "10084/10084 [==============================] - 60s 6ms/step - loss: 0.5906 - root_mean_squared_error: 0.1815 - val_loss: 0.6076 - val_root_mean_squared_error: 0.1991\n",
            "Epoch 13/20\n",
            "10084/10084 [==============================] - 61s 6ms/step - loss: 0.5901 - root_mean_squared_error: 0.1808 - val_loss: 0.6069 - val_root_mean_squared_error: 0.1983\n",
            "Epoch 14/20\n",
            "10084/10084 [==============================] - 61s 6ms/step - loss: 0.5901 - root_mean_squared_error: 0.1809 - val_loss: 0.6075 - val_root_mean_squared_error: 0.1990\n",
            "Epoch 15/20\n",
            "10084/10084 [==============================] - 61s 6ms/step - loss: 0.5896 - root_mean_squared_error: 0.1802 - val_loss: 0.6078 - val_root_mean_squared_error: 0.1993\n",
            "Epoch 16/20\n",
            "10084/10084 [==============================] - 62s 6ms/step - loss: 0.5898 - root_mean_squared_error: 0.1804 - val_loss: 0.6079 - val_root_mean_squared_error: 0.1993\n",
            "Epoch 17/20\n",
            "10084/10084 [==============================] - 61s 6ms/step - loss: 0.5893 - root_mean_squared_error: 0.1798 - val_loss: 0.6081 - val_root_mean_squared_error: 0.1994\n",
            "Epoch 18/20\n",
            "10084/10084 [==============================] - 62s 6ms/step - loss: 0.5890 - root_mean_squared_error: 0.1794 - val_loss: 0.6082 - val_root_mean_squared_error: 0.1995\n",
            "Epoch 19/20\n",
            "10084/10084 [==============================] - 61s 6ms/step - loss: 0.5891 - root_mean_squared_error: 0.1795 - val_loss: 0.6084 - val_root_mean_squared_error: 0.1997\n",
            "Epoch 20/20\n",
            "10084/10084 [==============================] - 61s 6ms/step - loss: 0.5888 - root_mean_squared_error: 0.1792 - val_loss: 0.6089 - val_root_mean_squared_error: 0.2000\n"
          ]
        }
      ]
    },
    {
      "cell_type": "markdown",
      "metadata": {
        "id": "Jj3k2JtYh24f"
      },
      "source": [
        "Selanjutanya kita visualisasikan proses training model dan hasilnya cukup baik dengan epoch 20. Dari proses ini, kita memperoleh nilai error akhir sebesar sekitar 0.18 dan error pada data validasi sebesar 0.20."
      ]
    },
    {
      "cell_type": "code",
      "metadata": {
        "colab": {
          "base_uri": "https://localhost:8080/",
          "height": 295
        },
        "id": "nxFJm9a7JE31",
        "outputId": "e3dfd18c-6626-427b-a008-48af8eac15e4"
      },
      "source": [
        "plt.plot(history.history['root_mean_squared_error'])\n",
        "plt.plot(history.history['val_root_mean_squared_error'])\n",
        "plt.title('model_metrics')\n",
        "plt.ylabel('root_mean_squared_error')\n",
        "plt.xlabel('epoch')\n",
        "plt.legend(['train', 'test'], loc='upper left')\n",
        "plt.show()"
      ],
      "execution_count": null,
      "outputs": [
        {
          "output_type": "display_data",
          "data": {
            "image/png": "[encoded data removed]",
            "text/plain": [
              "<Figure size 432x288 with 1 Axes>"
            ]
          },
          "metadata": {
            "needs_background": "light"
          }
        }
      ]
    },
    {
      "cell_type": "markdown",
      "metadata": {
        "id": "l2vyguQUjGlU"
      },
      "source": [
        "Tahapan selanjutanya kita buat variable untuk menampung daftar movie yang sudah ditonton oleh user dan daftar movie yang belum ditonotn oleh user. Nah movie yang belum pernah ditonton itulah yang akan kita rekomendasikan kepada user."
      ]
    },
    {
      "cell_type": "code",
      "metadata": {
        "id": "BwLJ2nOBJHOc"
      },
      "source": [
        "movie_df = movie_new\n",
        "df = pd.read_csv('ml-latest-small/ratings.csv')\n",
        "\n",
        "user_id = df.userId.sample(1).iloc[0]\n",
        "movie_watched_by_user = df[df.userId == user_id]\n",
        "\n",
        "movie_not_watched = movie_df[~movie_df['id'].isin(movie_watched_by_user.movieId.values)]['id']\n",
        "movie_not_watched = list(\n",
        "    set(movie_not_watched)\n",
        "    .intersection(set(movie_to_movie_encoded.keys()))\n",
        ")\n",
        "\n",
        "movie_not_watched = [[movie_to_movie_encoded.get(x)] for x in movie_not_watched]\n",
        "user_encoder = user_to_user_encoded.get(user_id)\n",
        "user_movie_array = np.hstack(\n",
        "    ([[user_encoder]] * len(movie_not_watched), movie_not_watched)\n",
        ")"
      ],
      "execution_count": null,
      "outputs": []
    },
    {
      "cell_type": "markdown",
      "metadata": {
        "id": "G6woU2uMjjBY"
      },
      "source": [
        "Terakhir baru kita tampilkan rekomendasi movie untuk user."
      ]
    },
    {
      "cell_type": "code",
      "metadata": {
        "colab": {
          "base_uri": "https://localhost:8080/"
        },
        "id": "WTmmMENOJJNN",
        "outputId": "81e2fc1f-5ef4-4e3c-83af-75cbd7a6d56c"
      },
      "source": [
        "ratings = model.predict(user_movie_array).flatten()\n",
        "\n",
        "top_ratings_indices = ratings.argsort()[-10:][::-1]\n",
        "recommended_movie_ids = [\n",
        "    movie_encoded_to_movie.get(movie_not_watched[x][0]) for x in top_ratings_indices\n",
        "]\n",
        "\n",
        "print('Showing recommendations for users: {}'.format(user_id))\n",
        "print('===' * 9)\n",
        "print('Movie with high ratings from user')\n",
        "print('----' * 8)\n",
        "\n",
        "top_movie_user = (\n",
        "    movie_watched_by_user.sort_values(\n",
        "        by = 'rating',\n",
        "        ascending=False\n",
        "    )\n",
        "    .head(5)\n",
        "    .movieId.values\n",
        ")\n",
        "\n",
        "movie_df_rows = movie_df[movie_df['id'].isin(top_movie_user)]\n",
        "for row in movie_df_rows.itertuples():\n",
        "    print(row.movie_name, ':', row.movie_genres)\n",
        "\n",
        "print('----' * 8)\n",
        "print('Top 10 movie recommendation')\n",
        "print('----' * 8)\n",
        "\n",
        "recommended_movie = movie_df[movie_df['id'].isin(recommended_movie_ids)]\n",
        "for row in recommended_movie.itertuples():\n",
        "    print(row.movie_name, ':', row.movie_genres)"
      ],
      "execution_count": null,
      "outputs": [
        {
          "output_type": "stream",
          "name": "stdout",
          "text": [
            "Showing recommendations for users: 459\n",
            "===========================\n",
            "Movie with high ratings from user\n",
            "--------------------------------\n",
            "Django Unchained (2012) : Action|Drama|Western\n",
            "Spirited Away (Sen to Chihiro no kamikakushi) (2001) : Adventure|Animation|Fantasy\n",
            "Incredibles, The (2004) : Action|Adventure|Animation|Children|Comedy\n",
            "Avatar (2009) : Action|Adventure|Sci-Fi|IMAX\n",
            "Doctor Strange (2016) : Action|Adventure|Sci-Fi\n",
            "--------------------------------\n",
            "Top 10 movie recommendation\n",
            "--------------------------------\n",
            "Apocalypse Now (1979) : Action|Drama|War\n",
            "Goodfellas (1990) : Crime|Drama\n",
            "Grand Day Out with Wallace and Gromit, A (1989) : Adventure|Animation|Children|Comedy|Sci-Fi\n",
            "Once Upon a Time in the West (C'era una volta il West) (1968) : Action|Drama|Western\n",
            "Godfather: Part II, The (1974) : Crime|Drama\n",
            "Raging Bull (1980) : Drama\n",
            "Third Man, The (1949) : Film-Noir|Mystery|Thriller\n",
            "Ran (1985) : Drama|War\n",
            "Lawrence of Arabia (1962) : Adventure|Drama|War\n",
            "Paths of Glory (1957) : Drama|War\n"
          ]
        }
      ]
    },
    {
      "cell_type": "code",
      "metadata": {
        "id": "OY0vHZC5JLi-"
      },
      "source": [],
      "execution_count": null,
      "outputs": []
    }
  ]
}